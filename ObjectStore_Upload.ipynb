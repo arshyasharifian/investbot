{
 "cells": [
  {
   "cell_type": "code",
   "execution_count": 10,
   "metadata": {},
   "outputs": [],
   "source": [
    "import oci\n",
    "import os\n",
    "from oci.object_storage import UploadManager\n",
    "from oci.object_storage.models import CreateBucketDetails\n",
    "from oci.object_storage.transfer.constants import MEBIBYTE\n",
    "import filecmp"
   ]
  },
  {
   "cell_type": "code",
   "execution_count": 2,
   "metadata": {},
   "outputs": [],
   "source": [
    "#source of connection to OCI is local config file, example in repo\n",
    "config = oci.config.from_file('/Users/enjli/Angie/config')\n",
    "identity = oci.identity.IdentityClient(config)\n",
    "oci.config.validate_config(config)\n",
    "user = identity.get_user(config[\"user\"]).data\n",
    "compartment_id = config[\"tenancy\"]"
   ]
  },
  {
   "cell_type": "code",
   "execution_count": 3,
   "metadata": {
    "scrolled": true
   },
   "outputs": [
    {
     "name": "stdout",
     "output_type": "stream",
     "text": [
      "{\n",
      "  \"capabilities\": {\n",
      "    \"can_use_api_keys\": true,\n",
      "    \"can_use_auth_tokens\": true,\n",
      "    \"can_use_console_password\": true,\n",
      "    \"can_use_customer_secret_keys\": true,\n",
      "    \"can_use_smtp_credentials\": true\n",
      "  },\n",
      "  \"compartment_id\": \"ocid1.tenancy.oc1..aaaaaaaa62o4ctw2vulxg73pcv3yxjkbxvhjd3iq4xhi7ihunjr5tuqyf67a\",\n",
      "  \"defined_tags\": {},\n",
      "  \"description\": \"Enjing Li\",\n",
      "  \"email\": \"enjing9541@hotmail.com\",\n",
      "  \"external_identifier\": null,\n",
      "  \"freeform_tags\": {},\n",
      "  \"id\": \"ocid1.user.oc1..aaaaaaaapdspoz7t7irwlii3oxiyuvxfsgcpqy4xuaq4otukceaehz6aczca\",\n",
      "  \"identity_provider_id\": null,\n",
      "  \"inactive_status\": null,\n",
      "  \"is_mfa_activated\": false,\n",
      "  \"lifecycle_state\": \"ACTIVE\",\n",
      "  \"name\": \"enjing9541@hotmail.com\",\n",
      "  \"time_created\": \"2020-02-13T00:28:10.550000+00:00\"\n",
      "}\n"
     ]
    }
   ],
   "source": [
    "#check\n",
    "print(user)"
   ]
  },
  {
   "cell_type": "code",
   "execution_count": 18,
   "metadata": {},
   "outputs": [],
   "source": [
    "#selecting/creating object storage bucket and naming the bucket and object\n",
    "object_storage = oci.object_storage.ObjectStorageClient(config)\n",
    "namespace = object_storage.get_namespace().data\n",
    "bucket_name = \"bucket-20200227-1414\"\n",
    "object_name = \"Model.pkl\""
   ]
  },
  {
   "cell_type": "code",
   "execution_count": null,
   "metadata": {},
   "outputs": [],
   "source": [
    "#creates the bucket\n",
    "#don't need to run if a bucket already exists\n",
    "print(\"Creating a new bucket {!r} in compartment {!r}\".format(bucket_name, compartment_id))\n",
    "request = CreateBucketDetails()\n",
    "request.compartment_id = compartment_id\n",
    "request.name = bucket_name\n",
    "bucket = object_storage.create_bucket(namespace, request)"
   ]
  },
  {
   "cell_type": "code",
   "execution_count": 19,
   "metadata": {},
   "outputs": [],
   "source": [
    "with open('/Users/enjli/github/investbot/saved_model.pkl', 'rb') as f:\n",
    "    file = f.read()\n",
    "filename = \"saved_model.pkl\"\n",
    "#needed for upload\n",
    "filepath = '/Users/enjli/github/investbot/saved_model.pkl'"
   ]
  },
  {
   "cell_type": "code",
   "execution_count": 20,
   "metadata": {},
   "outputs": [],
   "source": [
    "#various parameters to do multi-part uploading to object storage\n",
    "#this is mostly automated in the oci console, meaning that is \"generally\" better to simply use the console to upload objects\n",
    "# To force single part uploads, set \"allow_multipart_uploads=False\" when creating the UploadManager.\n",
    "part_size = 2 * MEBIBYTE  # part size (in bytes)\n",
    "upload_manager = UploadManager(object_storage, allow_parallel_uploads=True, parallel_process_count=3)\n",
    "response = upload_manager.upload_file(\n",
    "    namespace, bucket_name, object_name, filepath, part_size=part_size)"
   ]
  },
  {
   "cell_type": "code",
   "execution_count": 21,
   "metadata": {},
   "outputs": [
    {
     "name": "stdout",
     "output_type": "stream",
     "text": [
      "Retrieving file from object storage\n"
     ]
    }
   ],
   "source": [
    "# Retrieve the file, streaming it into another file in 1 MiB chunks\n",
    "print('Retrieving file from object storage')\n",
    "get_obj = object_storage.get_object(namespace, bucket_name, object_name)\n"
   ]
  },
  {
   "cell_type": "code",
   "execution_count": 22,
   "metadata": {},
   "outputs": [
    {
     "name": "stdout",
     "output_type": "stream",
     "text": [
      "Uploaded and downloaded files are the same: True\n"
     ]
    }
   ],
   "source": [
    "with open('file_retrieved', 'wb') as f:\n",
    "    for chunk in get_obj.data.raw.stream(1024 * 1024, decode_content=False):\n",
    "        f.write(chunk)\n",
    "\n",
    "print('Uploaded and downloaded files are the same: {}'.format(filecmp.cmp('saved_model.pkl', 'file_retrieved')))"
   ]
  },
  {
   "cell_type": "code",
   "execution_count": null,
   "metadata": {},
   "outputs": [],
   "source": []
  }
 ],
 "metadata": {
  "kernelspec": {
   "display_name": "Python 3",
   "language": "python",
   "name": "python3"
  },
  "language_info": {
   "codemirror_mode": {
    "name": "ipython",
    "version": 3
   },
   "file_extension": ".py",
   "mimetype": "text/x-python",
   "name": "python",
   "nbconvert_exporter": "python",
   "pygments_lexer": "ipython3",
   "version": "3.7.4"
  }
 },
 "nbformat": 4,
 "nbformat_minor": 2
}

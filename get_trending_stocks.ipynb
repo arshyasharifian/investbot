{
 "cells": [
  {
   "cell_type": "code",
   "execution_count": 2,
   "metadata": {
    "ExecuteTime": {
     "end_time": "2020-06-23T01:00:41.275102Z",
     "start_time": "2020-06-23T01:00:41.266072Z"
    }
   },
   "outputs": [],
   "source": [
    "#Finds the 20 minute moving average of a stock given a list of Robinhood stocks\n",
    "def filter_trending_stock(stable_current_tradeable_stocks):    \n",
    "    \n",
    "    index = 0\n",
    "    #filtering list of stocks based on 20 minute Trendrate\n",
    "    filtered_trending_stock_list = []\n",
    "    \n",
    "    #iterate through current list of stocks\n",
    "    while index < len(stable_current_tradeable_stocks):\n",
    "        #get the stock ticker\n",
    "        stock = stable_current_tradeable_stocks[index][0]\n",
    "        #get the historical price history based on stock ticker\n",
    "        symbol_daily_price = rs.stocks.get_historicals(inputSymbols=stock, span='day')\n",
    "        \n",
    "        #calculate the 20 minute moving average\n",
    "        tot_price = 0\n",
    "        #iterate through most recent price history\n",
    "        for prices in symbol_daily_price[-4:]:\n",
    "            #calculate the price over the past 20 minutes\n",
    "            tot_price+=float(prices['open_price'])\n",
    "        #calculate the 20 minute average\n",
    "        avg_price = tot_price/4\n",
    "        \n",
    "        #get the latest price of the stock\n",
    "        #latest_price = float(symbol_daily_price[-1]['open_price'])\n",
    "        \n",
    "        #gets latest price of stock\n",
    "        latest_price = rs.stocks.get_latest_price(stock)\n",
    "        #formats the price\n",
    "        latest_price = float(latest_price[0])\n",
    "        \n",
    "        #if the latest price is greater than the 20 minute average\n",
    "        if latest_price > avg_price:\n",
    "            #get the 20 minute trendrate\n",
    "            trendrate = latest_price/avg_price\n",
    "            \n",
    "            #add trendrate value to list of tradeable stocks\n",
    "            stable_current_tradeable_stocks[index].append(trendrate)\n",
    "            filtered_trending_stock_list.append(stable_current_tradeable_stocks[index])\n",
    "        #iterate\n",
    "        index+=1\n",
    "    \n",
    "    #return list of trending stocks\n",
    "    return filtered_trending_stock_list\n",
    "   "
   ]
  }
 ],
 "metadata": {
  "kernelspec": {
   "display_name": "Python 3",
   "language": "python",
   "name": "python3"
  },
  "language_info": {
   "codemirror_mode": {
    "name": "ipython",
    "version": 3
   },
   "file_extension": ".py",
   "mimetype": "text/x-python",
   "name": "python",
   "nbconvert_exporter": "python",
   "pygments_lexer": "ipython3",
   "version": "3.6.5"
  },
  "varInspector": {
   "cols": {
    "lenName": 16,
    "lenType": 16,
    "lenVar": 40
   },
   "kernels_config": {
    "python": {
     "delete_cmd_postfix": "",
     "delete_cmd_prefix": "del ",
     "library": "var_list.py",
     "varRefreshCmd": "print(var_dic_list())"
    },
    "r": {
     "delete_cmd_postfix": ") ",
     "delete_cmd_prefix": "rm(",
     "library": "var_list.r",
     "varRefreshCmd": "cat(var_dic_list()) "
    }
   },
   "types_to_exclude": [
    "module",
    "function",
    "builtin_function_or_method",
    "instance",
    "_Feature"
   ],
   "window_display": false
  }
 },
 "nbformat": 4,
 "nbformat_minor": 2
}

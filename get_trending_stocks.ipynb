{
 "cells": [
  {
   "cell_type": "code",
   "execution_count": 1,
   "metadata": {},
   "outputs": [],
   "source": [
    "def filter_trending_stock(stable_current_tradeable_stocks):\n",
    "    #adding new column to track \"trendrate\", a stock's upward trend score\n",
    "    \n",
    "    \n",
    "    index = 0\n",
    "    filtered_trending_stock_list = []\n",
    "    while index < len(stable_current_tradeable_stocks):\n",
    "        stock = stable_current_tradeable_stocks[index][0]\n",
    "        symbol_daily_price = rs.stocks.get_historicals(inputSymbols=stock, span='day')\n",
    "        tot_price = 0\n",
    "        for prices in symbol_daily_price[-4:]:\n",
    "            tot_price+=float(prices['open_price'])\n",
    "        avg_price = tot_price/4\n",
    "            \n",
    "        latest_price = float(symbol_daily_price[-1]['open_price'])\n",
    "        \n",
    "        if latest_price > avg_price:\n",
    "            #ensure that I could afford to buy the trending stock\n",
    "                #if current price greater than the average of last 20 minutes, then trending up\n",
    "            trendrate = latest_price/avg_price\n",
    "            \n",
    "            stable_current_tradeable_stocks[index].append(trendrate)\n",
    "            filtered_trending_stock_list.append(stable_current_tradeable_stocks[index])\n",
    "        index+=1\n",
    "    return filtered_trending_stock_list\n",
    "    '''\n",
    "    \n",
    "    stable_current_tradeable_stocks[\"TrendRate\"] = None  \n",
    "    for index, row in stable_current_tradeable_stocks.iterrows():\n",
    "        symbol_daily_price = rs.stocks.get_historicals(inputSymbols=row[\"symbol\"], span='day')\n",
    "        \n",
    "        tot_price = 0\n",
    "        #get average price for last 20 minutes\n",
    "        for prices in symbol_daily_price[-4:]:\n",
    "            tot_price+=float(prices['open_price'])\n",
    "        avg_price = tot_price/4\n",
    "        \n",
    "        latest_price = float(symbol_daily_price[-1]['open_price'])\n",
    "        if latest_price > avg_price:\n",
    "            #ensure that I could afford to buy the trending stock\n",
    "            if enough_money(row[\"symbol\"]):\n",
    "                #if current price greater than the average of last 20 minutes, then trending up\n",
    "                row[\"TrendRate\"] = latest_price/avg_price\n",
    "    \n",
    "    #drop all the tickers that aren't trending      \n",
    "    stable_current_tradeable_stocks = stable_current_tradeable_stocks.dropna()\n",
    "    '''\n",
    "    #['stock', 'title', 'trendrate']\n",
    "    #return stable_current_tradeable_stocks"
   ]
  },
  {
   "cell_type": "code",
   "execution_count": null,
   "metadata": {},
   "outputs": [],
   "source": []
  }
 ],
 "metadata": {
  "kernelspec": {
   "display_name": "Python 3",
   "language": "python",
   "name": "python3"
  },
  "language_info": {
   "codemirror_mode": {
    "name": "ipython",
    "version": 3
   },
   "file_extension": ".py",
   "mimetype": "text/x-python",
   "name": "python",
   "nbconvert_exporter": "python",
   "pygments_lexer": "ipython3",
   "version": "3.6.5"
  }
 },
 "nbformat": 4,
 "nbformat_minor": 2
}

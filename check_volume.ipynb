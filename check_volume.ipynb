{
 "cells": [
  {
   "cell_type": "code",
   "execution_count": 5,
   "metadata": {},
   "outputs": [],
   "source": [
    "#check if stock is stable with relatively low volume\n",
    "def is_stock_stable(symbol):\n",
    "    try:\n",
    "        stock_fund = rs.stocks.get_fundamentals(inputSymbols=symbol)\n",
    "        stock_fund = stock_fund[0]\n",
    "        if stock_fund['volume'] and stock_fund['average_volume_2_weeks']:\n",
    "            if float(stock_fund['volume']) < float(stock_fund['average_volume_2_weeks']):\n",
    "                #print(stock_fund['volume'], \"is less than\", stock_fund['average_volume_2_weeks'])\n",
    "                #print(True)\n",
    "                return True\n",
    "            else:\n",
    "                return False\n",
    "    except:\n",
    "        print(\"didn't work for this symbol: \", symbol)\n",
    "        return False\n",
    "              \n",
    "              "
   ]
  },
  {
   "cell_type": "code",
   "execution_count": 2,
   "metadata": {},
   "outputs": [],
   "source": [
    "def remove_high_vol_stocks(current_tradeable_stocks):\n",
    "    \n",
    "    index = 0\n",
    "    low_vol_stock = []\n",
    "    while index < len(current_tradeable_stocks):\n",
    "        stock = current_tradeable_stocks[index][0]\n",
    "        if is_stock_stable(stock):\n",
    "            low_vol_stock.append(current_tradeable_stocks[index])\n",
    "        index+=1\n",
    "    return low_vol_stock\n",
    "    \n",
    "    '''\n",
    "    for index, row in current_tradeable_stocks.iterrows():\n",
    "        if is_stock_stable(row[\"symbol\"]) == False:\n",
    "            current_tradeable_stocks = current_tradeable_stocks.drop([index], axis=0)\n",
    "    print(len(current_tradeable_stocks))\n",
    "    return current_tradeable_stocks\n",
    "    '''"
   ]
  },
  {
   "cell_type": "code",
   "execution_count": null,
   "metadata": {},
   "outputs": [],
   "source": []
  }
 ],
 "metadata": {
  "kernelspec": {
   "display_name": "Python 3",
   "language": "python",
   "name": "python3"
  },
  "language_info": {
   "codemirror_mode": {
    "name": "ipython",
    "version": 3
   },
   "file_extension": ".py",
   "mimetype": "text/x-python",
   "name": "python",
   "nbconvert_exporter": "python",
   "pygments_lexer": "ipython3",
   "version": "3.6.5"
  }
 },
 "nbformat": 4,
 "nbformat_minor": 2
}

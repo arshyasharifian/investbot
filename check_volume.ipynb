{
 "cells": [
  {
   "cell_type": "code",
   "execution_count": 1,
   "metadata": {},
   "outputs": [],
   "source": [
    "#check if stock is stable with relatively low volume\n",
    "def is_stock_stable(symbol):\n",
    "    stock_fund = rs.stocks.get_fundamentals(inputSymbols=symbol)\n",
    "    stock_fund = stock_fund[0]\n",
    "    if stock_fund['volume'] < stock_fund['average_volume_2_weeks']:\n",
    "        #print(stock_fund['volume'], \"is less than\", stock_fund['average_volume_2_weeks'])\n",
    "        #print(True)\n",
    "        return True"
   ]
  },
  {
   "cell_type": "code",
   "execution_count": 2,
   "metadata": {},
   "outputs": [],
   "source": [
    "def remove_high_vol_stocks(current_tradeable_stocks):\n",
    "    \n",
    "    for index, row in current_tradeable_stocks.iterrows():\n",
    "        if is_stock_stable(row[\"symbol\"]) == False:\n",
    "            current_tradeable_stocks = current_tradeable_stocks.drop([index], axis=0)\n",
    "    return current_tradeable_stocks"
   ]
  },
  {
   "cell_type": "code",
   "execution_count": null,
   "metadata": {},
   "outputs": [],
   "source": []
  }
 ],
 "metadata": {
  "kernelspec": {
   "display_name": "Python 3",
   "language": "python",
   "name": "python3"
  },
  "language_info": {
   "codemirror_mode": {
    "name": "ipython",
    "version": 3
   },
   "file_extension": ".py",
   "mimetype": "text/x-python",
   "name": "python",
   "nbconvert_exporter": "python",
   "pygments_lexer": "ipython3",
   "version": "3.6.5"
  }
 },
 "nbformat": 4,
 "nbformat_minor": 2
}

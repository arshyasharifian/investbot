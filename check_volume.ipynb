{
 "cells": [
  {
   "cell_type": "code",
   "execution_count": 1,
   "metadata": {
    "ExecuteTime": {
     "end_time": "2020-06-24T16:48:13.694782Z",
     "start_time": "2020-06-24T16:48:13.691345Z"
    }
   },
   "outputs": [],
   "source": [
    "#check if stock is stable, relatively low volume\n",
    "def volume_is_low(symbol):\n",
    "    #in stock is unavailable, try and expect will continue checking list\n",
    "    try:\n",
    "        #get stock volume information\n",
    "        stock_fund = rs.stocks.get_fundamentals(inputSymbols=symbol)\n",
    "        stock_fund = stock_fund[0]\n",
    "        #checks current volume against average 2 week volume\n",
    "        if stock_fund['volume'] and stock_fund['average_volume_2_weeks']:\n",
    "            #if current volume is less than average 2 week volume\n",
    "            if float(stock_fund['volume']) <= float(stock_fund['average_volume_2_weeks']):\n",
    "                #then I infer that stock is stable\n",
    "                return True\n",
    "            else:\n",
    "                return False\n",
    "    except:\n",
    "        #error message\n",
    "        print(\"is_stock_stable function unable to check this stock ticker for volume:  \", symbol)\n",
    "        return False\n",
    "              \n",
    "              "
   ]
  },
  {
   "cell_type": "code",
   "execution_count": 2,
   "metadata": {
    "ExecuteTime": {
     "end_time": "2020-06-24T16:48:13.858821Z",
     "start_time": "2020-06-24T16:48:13.854487Z"
    }
   },
   "outputs": [],
   "source": [
    "#filters stock with high volume\n",
    "def remove_high_vol_stocks(current_tradeable_stocks):\n",
    "    index = 0\n",
    "    #initializing list for \"stable\" stocks\n",
    "    low_vol_stock = []\n",
    "    \n",
    "    #iterating through prospective stocks for purchase\n",
    "    while index < len(current_tradeable_stocks):\n",
    "        #get the stock ticker\n",
    "        stock = current_tradeable_stocks[index][0]\n",
    "        #check if stock is stable based on volume\n",
    "        if volume_is_low(stock):\n",
    "            #if so, add to list of \"stable\" stocks\n",
    "            low_vol_stock.append(current_tradeable_stocks[index])\n",
    "        #increment\n",
    "        index+=1\n",
    "    \n",
    "    #return list of \"stable\" stocks\n",
    "    return low_vol_stock"
   ]
  }
 ],
 "metadata": {
  "kernelspec": {
   "display_name": "Python 3",
   "language": "python",
   "name": "python3"
  },
  "language_info": {
   "codemirror_mode": {
    "name": "ipython",
    "version": 3
   },
   "file_extension": ".py",
   "mimetype": "text/x-python",
   "name": "python",
   "nbconvert_exporter": "python",
   "pygments_lexer": "ipython3",
   "version": "3.6.5"
  },
  "varInspector": {
   "cols": {
    "lenName": 16,
    "lenType": 16,
    "lenVar": 40
   },
   "kernels_config": {
    "python": {
     "delete_cmd_postfix": "",
     "delete_cmd_prefix": "del ",
     "library": "var_list.py",
     "varRefreshCmd": "print(var_dic_list())"
    },
    "r": {
     "delete_cmd_postfix": ") ",
     "delete_cmd_prefix": "rm(",
     "library": "var_list.r",
     "varRefreshCmd": "cat(var_dic_list()) "
    }
   },
   "types_to_exclude": [
    "module",
    "function",
    "builtin_function_or_method",
    "instance",
    "_Feature"
   ],
   "window_display": false
  }
 },
 "nbformat": 4,
 "nbformat_minor": 2
}

{
 "cells": [
  {
   "cell_type": "code",
   "execution_count": 2,
   "metadata": {
    "ExecuteTime": {
     "end_time": "2020-06-24T16:53:14.248025Z",
     "start_time": "2020-06-24T16:53:14.243981Z"
    }
   },
   "outputs": [],
   "source": [
    "#gets a purchase list by applying filters to all tradeable stocks on Robinhood\n",
    "def filter_tradeable_stocks(all_tradeable_stocks):\n",
    "#def push_stock_purchase_list_to_cloud(all_tradeable_stocks):\n",
    "    \n",
    "    #filter for recent news\n",
    "    recent_stock_news1 = filter_recent_news(all_tradeable_stocks)\n",
    "    #informs users that recent news filtering is complete\n",
    "    print(\"filtered for recent news\")\n",
    "    \n",
    "    #filters for high volume stocks\n",
    "    low_vol_stocks = remove_high_vol_stocks(recent_stock_news1)\n",
    "    #informs users that volume filter is complete\n",
    "    print(\"filtered for volume\")\n",
    "    \n",
    "    #filters for downward trending stocks\n",
    "    my_trending_stocks = filter_trending_stock(low_vol_stocks)\n",
    "    print(\"filtered for trendrate\")\n",
    "    \n",
    "    #prints list of stocks that algorithm will attempt to purchase\n",
    "    print(my_trending_stocks)\n",
    "    \n",
    "    #downloads list as CSV file\n",
    "    convert_list_to_CSV(my_trending_stocks)\n",
    "    "
   ]
  },
  {
   "cell_type": "code",
   "execution_count": 3,
   "metadata": {
    "ExecuteTime": {
     "end_time": "2020-06-24T16:53:16.342853Z",
     "start_time": "2020-06-24T16:53:16.338533Z"
    }
   },
   "outputs": [],
   "source": [
    "#Downloads purchase list as CSV file\n",
    "#def push_to_cloud(my_trending_stocks):\n",
    "def convert_list_to_CSV(my_trending_stocks):\n",
    "    file_name = \"purchase_list_V\"\n",
    "    a=my_trending_stocks\n",
    "    with open(file_name + \".csv\", \"w\", newline=\"\") as f:\n",
    "        writer = csv.writer(f)\n",
    "        writer.writerows(a)"
   ]
  },
  {
   "cell_type": "code",
   "execution_count": 4,
   "metadata": {
    "ExecuteTime": {
     "end_time": "2020-06-24T16:53:16.599061Z",
     "start_time": "2020-06-24T16:53:16.593656Z"
    }
   },
   "outputs": [],
   "source": [
    "#sorts purchase list by trendrate\n",
    "#def get_purchase_list_from_cloud():\n",
    "def get_sorted_purchase_list():\n",
    "    #data_csv = pd.read_csv('stock_purchase_list_d.csv', parse_dates=True, names=['symbol', 'news_title', 'trendrate'])\n",
    "    data_csv = pd.read_csv('purchase_list_v.csv', parse_dates=True, names=['symbol', 'news_title', 'trendrate'])\n",
    "\n",
    "    #sort by trendrate before returning\n",
    "    data_csv = data_csv.sort_values(by=\"trendrate\", ascending=False)\n",
    "    \n",
    "    #returns purchase list sorted by trendrate\n",
    "    return data_csv"
   ]
  }
 ],
 "metadata": {
  "kernelspec": {
   "display_name": "Python 3",
   "language": "python",
   "name": "python3"
  },
  "language_info": {
   "codemirror_mode": {
    "name": "ipython",
    "version": 3
   },
   "file_extension": ".py",
   "mimetype": "text/x-python",
   "name": "python",
   "nbconvert_exporter": "python",
   "pygments_lexer": "ipython3",
   "version": "3.6.5"
  },
  "varInspector": {
   "cols": {
    "lenName": 16,
    "lenType": 16,
    "lenVar": 40
   },
   "kernels_config": {
    "python": {
     "delete_cmd_postfix": "",
     "delete_cmd_prefix": "del ",
     "library": "var_list.py",
     "varRefreshCmd": "print(var_dic_list())"
    },
    "r": {
     "delete_cmd_postfix": ") ",
     "delete_cmd_prefix": "rm(",
     "library": "var_list.r",
     "varRefreshCmd": "cat(var_dic_list()) "
    }
   },
   "types_to_exclude": [
    "module",
    "function",
    "builtin_function_or_method",
    "instance",
    "_Feature"
   ],
   "window_display": false
  }
 },
 "nbformat": 4,
 "nbformat_minor": 2
}

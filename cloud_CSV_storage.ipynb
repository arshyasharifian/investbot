{
 "cells": [
  {
   "cell_type": "code",
   "execution_count": 5,
   "metadata": {
    "ExecuteTime": {
     "end_time": "2020-06-15T22:12:03.670095Z",
     "start_time": "2020-06-15T22:12:03.663625Z"
    }
   },
   "outputs": [],
   "source": [
    "#runs all the filters to get purchase list\n",
    "def push_stock_purchase_list_to_cloud(all_tradeable_stocks):\n",
    "    #all_tradeable_stocks = get_tradeable_stocks()\n",
    "    #print(\"got all tradeable stocks\")\n",
    "    recent_stock_news1 = filter_recent_news(all_tradeable_stocks)\n",
    "    print(\"filtered for recent news\")\n",
    "    low_vol_stocks = remove_high_vol_stocks(recent_stock_news1)\n",
    "    print(\"filtered for volume\")\n",
    "    my_trending_stocks = filter_trending_stock(low_vol_stocks)\n",
    "    print(my_trending_stocks)\n",
    "    push_to_cloud(my_trending_stocks)\n",
    "    #download as csv file\n",
    "    \n",
    "    print(\"pushed to cloud\")"
   ]
  },
  {
   "cell_type": "code",
   "execution_count": 7,
   "metadata": {
    "ExecuteTime": {
     "end_time": "2020-06-15T22:12:03.955620Z",
     "start_time": "2020-06-15T22:12:03.951947Z"
    }
   },
   "outputs": [],
   "source": [
    "def push_to_cloud(my_trending_stocks):\n",
    "    file_name = \"purchase_list_V\"\n",
    "    a=my_trending_stocks\n",
    "    with open(file_name + \".csv\", \"w\", newline=\"\") as f:\n",
    "        writer = csv.writer(f)\n",
    "        writer.writerows(a)\n",
    "    \n",
    "    '''\n",
    "    storage_client = storage.Client(project=\"bright-voltage-248522\")\n",
    "    bucket = storage_client.get_bucket('arys_bucket1')\n",
    "    blob = bucket.blob(\"stock_purchase_list\")\n",
    "    blob.upload_from_filename(file_name+\".csv\")\n",
    "    '''"
   ]
  },
  {
   "cell_type": "code",
   "execution_count": 9,
   "metadata": {
    "ExecuteTime": {
     "end_time": "2020-06-15T22:45:20.937139Z",
     "start_time": "2020-06-15T22:45:20.933060Z"
    }
   },
   "outputs": [],
   "source": [
    "def get_purchase_list_from_cloud():\n",
    "    '''\n",
    "    storage_client = storage.Client(project=\"bright-voltage-248522\")\n",
    "    bucket = storage_client.get_bucket('arys_bucket1')\n",
    "    blob = bucket.blob(\"stock_purchase_list\")\n",
    "    data = blob.download_to_filename('stock_purchase_list_d.csv')\n",
    "    '''\n",
    "    \n",
    "    #data_csv = pd.read_csv('stock_purchase_list_d.csv', parse_dates=True, names=['symbol', 'news_title', 'trendrate'])\n",
    "    data_csv = pd.read_csv('purchase_list_v.csv', parse_dates=True, names=['symbol', 'news_title', 'trendrate'])\n",
    "\n",
    "    #sort by trendrate before returning\n",
    "    data_csv = data_csv.sort_values(by=\"trendrate\", ascending=False)\n",
    "    \n",
    "    return data_csv"
   ]
  },
  {
   "cell_type": "code",
   "execution_count": 8,
   "metadata": {
    "ExecuteTime": {
     "end_time": "2020-06-15T22:12:04.087725Z",
     "start_time": "2020-06-15T22:12:04.084058Z"
    }
   },
   "outputs": [],
   "source": [
    "def get_day_trade_stock_list():\n",
    "    stocks_owned = rs.account.get_current_positions()\n",
    "    day_trade_list = []\n",
    "    for stock in stocks_owned:\n",
    "        stock_url = stock['instrument']\n",
    "        stock_shares_for_sell = stock['shares_held_for_sells']\n",
    "        stock_ticker = rs.account.stocks.get_instrument_by_url(url = stock_url)\n",
    "        if stock_shares_for_sell>1:\n",
    "            day_trade_list.append(stock_ticker['symbol'])\n",
    "#could use this to check if a stock has shares held for sells\n",
    "#get the stock url\n",
    "    print(day_trade_list)\n",
    "#use the stock url to get the stock symbol/name\n",
    "#rs.account.stocks.get_instrument_by_url(url='https://api.robinhood.com/instruments/ee17a597-5d34-42be-b264-f5c50b12dffc/')"
   ]
  },
  {
   "cell_type": "code",
   "execution_count": null,
   "metadata": {},
   "outputs": [],
   "source": []
  }
 ],
 "metadata": {
  "kernelspec": {
   "display_name": "Python 3",
   "language": "python",
   "name": "python3"
  },
  "language_info": {
   "codemirror_mode": {
    "name": "ipython",
    "version": 3
   },
   "file_extension": ".py",
   "mimetype": "text/x-python",
   "name": "python",
   "nbconvert_exporter": "python",
   "pygments_lexer": "ipython3",
   "version": "3.6.5"
  },
  "varInspector": {
   "cols": {
    "lenName": 16,
    "lenType": 16,
    "lenVar": 40
   },
   "kernels_config": {
    "python": {
     "delete_cmd_postfix": "",
     "delete_cmd_prefix": "del ",
     "library": "var_list.py",
     "varRefreshCmd": "print(var_dic_list())"
    },
    "r": {
     "delete_cmd_postfix": ") ",
     "delete_cmd_prefix": "rm(",
     "library": "var_list.r",
     "varRefreshCmd": "cat(var_dic_list()) "
    }
   },
   "types_to_exclude": [
    "module",
    "function",
    "builtin_function_or_method",
    "instance",
    "_Feature"
   ],
   "window_display": false
  }
 },
 "nbformat": 4,
 "nbformat_minor": 2
}

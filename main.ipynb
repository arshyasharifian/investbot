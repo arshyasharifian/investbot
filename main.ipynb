{
 "cells": [
  {
   "cell_type": "code",
   "execution_count": 1,
   "metadata": {
    "code_folding": []
   },
   "outputs": [
    {
     "data": {
      "text/plain": [
       "'\\nwhile markets are still open\\n    get_cloud_csv\\n        if csv file is old\\n            wait 1 minute\\n            check again\\n        else\\n            return new csv file\\n    iterate through stocks\\n        buy stocks\\n'"
      ]
     },
     "execution_count": 1,
     "metadata": {},
     "output_type": "execute_result"
    }
   ],
   "source": [
    "'''\n",
    "Trading Algo PScode:\n",
    "    initialize tradeable stocks list\n",
    "    Iterate through list of stocks:\n",
    "        if stock is tradeable\n",
    "        AND if stock's most recent news is positive\n",
    "        --IGNORING AND if stock most recent news has been posted in last 30 minutes:\n",
    "        AND stock volume < avg. volume:\n",
    "            add stock ticker and number of clicks to tradeable stock list\n",
    "    --IGNORING FOR NOW: sort tradeable stocks list by number of clicks\n",
    "    for each stock ticker:\n",
    "        calculate 20 minute moving average\n",
    "            stocks_price_day = rs.stocks.get_historicals(inputSymbols='tsla', span='day')\n",
    "            get last 4 open prices and divide by 4 = 20 minute moving average\n",
    "        #see if stock is trending upwards\n",
    "        if 20 minute moving average > current_price:\n",
    "            #place buy-limit order to buy at the current price \n",
    "            robin_stocks.orders.order_buy_limit(symbol, quantity, limitPrice, timeInForce='gtc', extendedHours=False)\n",
    "'''\n",
    "\n",
    "\n",
    "''''\n",
    "Trading Algo PScode 1 helper\n",
    "    filter for tradeable stocks\n",
    "    filter for most recent news\n",
    "    filter for low stock volume\n",
    "    filter for 20 minute moving average\n",
    "    sort list by moving average\n",
    "        send CSV to cloud \n",
    "'''\n",
    "\n",
    "'''\n",
    "Trading Algo PScode 1\n",
    "    get CSV from cloud\n",
    "    check that its a new list of stocks\n",
    "        the most recent news story should be within 45 minutes of current\n",
    "        time?\n",
    "        OR \n",
    "        increment the csv file name by 1 so I know its a new version?\n",
    "    iterate through stocks in CSV file\n",
    "        place a buy limit order\n",
    "        confirm stock is purchased\n",
    "        set sell limit order      \n",
    "'''\n",
    "\n",
    "#stock_filter_helper\n",
    "'''\n",
    "get_tradeable_stocks\n",
    "    CSV file = [index, stock tickers]\n",
    "    filter_recent_news(tradeable_stocks_csv)\n",
    "filter_recent_news(tradeable_stocks_csv: csv file)\n",
    "    CSV = [index, stock_tickers, news_story_title]\n",
    "    remove_high_vol_stocks(filtered_recent_news_csv)\n",
    "remove_high_vol_stocks(filtered_recent_news_csv: csv file)\n",
    "    CSV = [index, stock_tickers, news_story_title]\n",
    "    get_trending_stocks(filtered_high_volume_csv)\n",
    "get_trending_stocks(filtered_high_volume_csv: csv file):\n",
    "    CSV = [index, stock_tickers, news_story_title, trendrate]\n",
    "    purchase_list = sort CSV by trendrate\n",
    "    push_to_cloud(purchase_list)\n",
    "push_to_cloud(purchase_list_csv: csv file):\n",
    "    #can I add a number to the csv file name \n",
    "    #increment that value each time?\n",
    "    \n",
    "'''\n",
    "\n",
    "#stock trader\n",
    "'''\n",
    "while markets are still open\n",
    "    get_cloud_csv\n",
    "        if csv file is old\n",
    "            wait 1 minute\n",
    "            check again\n",
    "        else\n",
    "            return new csv file\n",
    "    iterate through stocks\n",
    "        buy stocks\n",
    "'''\n",
    "\n",
    "\n"
   ]
  },
  {
   "cell_type": "code",
   "execution_count": 2,
   "metadata": {},
   "outputs": [
    {
     "data": {
      "text/plain": [
       "'\\nstartTime = datetime.now()\\nafford_stock_list = filter_exp_stocks(all_tradeable_stocks)\\nprint(datetime.now() - startTime)   \\n'"
      ]
     },
     "execution_count": 2,
     "metadata": {},
     "output_type": "execute_result"
    }
   ],
   "source": [
    "'''\n",
    "#filter for stocks I can't afford given buying power\n",
    "def filter_exp_stocks(all_tradeable_stocks):\n",
    "    index = 0\n",
    "    afford_stock_list = []\n",
    "    while index < len(all_tradeable_stocks):\n",
    "        stock = all_tradeable_stocks[index]\n",
    "        if enough_money(stock):\n",
    "            afford_stock_list.append(stock)\n",
    "        index+=1\n",
    "    return afford_stock_list\n",
    "'''\n",
    "'''\n",
    "startTime = datetime.now()\n",
    "afford_stock_list = filter_exp_stocks(all_tradeable_stocks)\n",
    "print(datetime.now() - startTime)   \n",
    "'''"
   ]
  },
  {
   "cell_type": "code",
   "execution_count": 3,
   "metadata": {
    "code_folding": []
   },
   "outputs": [],
   "source": [
    "#one time install\n",
    "#!pip install --user nbimporter"
   ]
  },
  {
   "cell_type": "code",
   "execution_count": 56,
   "metadata": {
    "scrolled": true
   },
   "outputs": [],
   "source": [
    "import kfp\n",
    "import kfp.components as comp\n",
    "import kfp.compiler as pipe_comp\n",
    "import robin_stocks as rs\n",
    "import pandas as pd\n",
    "import requests\n",
    "import numpy as np\n",
    "import nbimporter\n",
    "from typing import NamedTuple\n",
    "from collections import namedtuple\n",
    "from google.cloud import storage\n",
    "from datetime import timedelta, datetime\n",
    "import time\n",
    "import csv"
   ]
  },
  {
   "cell_type": "code",
   "execution_count": 57,
   "metadata": {},
   "outputs": [],
   "source": [
    "#include functions from notebooks\n",
    "%run auth.ipynb\n",
    "%run recent_stock_news.ipynb\n",
    "%run check_volume.ipynb\n",
    "%run get_trending_stocks.ipynb\n",
    "%run purchase_stock.ipynb\n",
    "%run tradeable_stocks.ipynb"
   ]
  },
  {
   "cell_type": "code",
   "execution_count": 58,
   "metadata": {
    "code_folding": []
   },
   "outputs": [],
   "source": [
    "#making notebook functions available\n",
    "import auth\n",
    "import recent_stock_news\n",
    "import check_volume\n",
    "import get_trending_stocks\n",
    "import purchase_stock\n",
    "import tradeable_stocks"
   ]
  },
  {
   "cell_type": "code",
   "execution_count": 59,
   "metadata": {},
   "outputs": [],
   "source": [
    "def push_to_cloud(my_trending_stocks):\n",
    "    file_name = \"purchase_list_V\"\n",
    "    a=my_trending_stocks\n",
    "    with open(file_name + \".csv\", \"w\", newline=\"\") as f:\n",
    "        writer = csv.writer(f)\n",
    "        writer.writerows(a)\n",
    "    storage_client = storage.Client(project=\"bright-voltage-248522\")\n",
    "    bucket = storage_client.get_bucket('arys_bucket1')\n",
    "    blob = bucket.blob(\"stock_purchase_list\")\n",
    "    blob.upload_from_filename(file_name+\".csv\")"
   ]
  },
  {
   "cell_type": "code",
   "execution_count": 60,
   "metadata": {},
   "outputs": [],
   "source": [
    "def get_purchase_list_from_cloud():\n",
    "    storage_client = storage.Client(project=\"bright-voltage-248522\")\n",
    "    bucket = storage_client.get_bucket('arys_bucket1')\n",
    "    blob = bucket.blob(\"stock_purchase_list\")\n",
    "    data = blob.download_to_filename('stock_purchase_list_d.csv')\n",
    "    data_csv = pd.read_csv('stock_purchase_list_d.csv', parse_dates=True, names=['symbol', 'news_title', 'trendrate'])\n",
    "    #sort by trendrate before returning\n",
    "    data_csv = data_csv.sort_values(by=\"trendrate\", ascending=False)\n",
    "    \n",
    "    return data_csv"
   ]
  },
  {
   "cell_type": "code",
   "execution_count": 62,
   "metadata": {},
   "outputs": [],
   "source": [
    "#runs all the filters to get purchase list\n",
    "def push_stock_purchase_list_to_cloud():\n",
    "    all_tradeable_stocks = get_tradeable_stocks()\n",
    "    print(\"got all tradeable stocks\")\n",
    "    recent_stock_news1 = filter_recent_news(all_tradeable_stocks)\n",
    "    print(\"filterd for recent news\")\n",
    "    low_vol_stocks = remove_high_vol_stocks(recent_stock_news1)\n",
    "    print(\"filterd for volume\")\n",
    "    my_trending_stocks = filter_trending_stock(low_vol_stocks)\n",
    "    print(\"filterd for tredning stocks\")\n",
    "    push_to_cloud(my_trending_stocks)\n",
    "    print(\"pushed to cloud\")"
   ]
  },
  {
   "cell_type": "code",
   "execution_count": 36,
   "metadata": {
    "collapsed": true
   },
   "outputs": [
    {
     "name": "stdout",
     "output_type": "stream",
     "text": [
      "ERROR: There was an issue loading pickle file. Authentication may be expired - logging in normally.\n",
      "Please type in the MFA code: 812603\n"
     ]
    }
   ],
   "source": [
    "get_header = rh_auth(username='', password='')"
   ]
  },
  {
   "cell_type": "code",
   "execution_count": 51,
   "metadata": {
    "code_folding": [],
    "collapsed": true
   },
   "outputs": [
    {
     "name": "stdout",
     "output_type": "stream",
     "text": [
      "14 9\n",
      "Found Additional pages.\n",
      "Loading page 2 ...\n",
      "Loading page 3 ...\n",
      "Loading page 4 ...\n",
      "Loading page 5 ...\n",
      "Loading page 6 ...\n",
      "Loading page 7 ...\n",
      "Loading page 8 ...\n",
      "Loading page 9 ...\n",
      "Loading page 10 ...\n",
      "Loading page 11 ...\n",
      "Loading page 12 ...\n",
      "Loading page 13 ...\n",
      "Loading page 14 ...\n",
      "Loading page 15 ...\n",
      "Loading page 16 ...\n",
      "Loading page 17 ...\n",
      "Loading page 18 ...\n",
      "Loading page 19 ...\n",
      "Loading page 20 ...\n",
      "Loading page 21 ...\n",
      "Loading page 22 ...\n",
      "Loading page 23 ...\n",
      "Loading page 24 ...\n",
      "Loading page 25 ...\n",
      "Loading page 26 ...\n",
      "Loading page 27 ...\n",
      "Loading page 28 ...\n",
      "Loading page 29 ...\n",
      "Loading page 30 ...\n",
      "Loading page 31 ...\n",
      "Loading page 32 ...\n",
      "Loading page 33 ...\n",
      "Loading page 34 ...\n",
      "Loading page 35 ...\n",
      "Loading page 36 ...\n",
      "Loading page 37 ...\n",
      "Loading page 38 ...\n",
      "Loading page 39 ...\n",
      "Loading page 40 ...\n",
      "Loading page 41 ...\n",
      "Loading page 42 ...\n",
      "Loading page 43 ...\n",
      "Loading page 44 ...\n",
      "Loading page 45 ...\n",
      "Loading page 46 ...\n",
      "Loading page 47 ...\n",
      "Loading page 48 ...\n",
      "Loading page 49 ...\n",
      "Loading page 50 ...\n",
      "Loading page 51 ...\n",
      "Loading page 52 ...\n",
      "Loading page 53 ...\n",
      "Loading page 54 ...\n",
      "Loading page 55 ...\n",
      "Loading page 56 ...\n",
      "Loading page 57 ...\n",
      "Loading page 58 ...\n",
      "Loading page 59 ...\n",
      "Loading page 60 ...\n",
      "Loading page 61 ...\n",
      "Loading page 62 ...\n",
      "Loading page 63 ...\n",
      "Loading page 64 ...\n",
      "Loading page 65 ...\n",
      "Loading page 66 ...\n",
      "Loading page 67 ...\n",
      "Loading page 68 ...\n",
      "Loading page 69 ...\n",
      "Loading page 70 ...\n",
      "Loading page 71 ...\n",
      "Loading page 72 ...\n",
      "Loading page 73 ...\n",
      "Loading page 74 ...\n",
      "Loading page 75 ...\n",
      "Loading page 76 ...\n",
      "Loading page 77 ...\n",
      "Loading page 78 ...\n",
      "Loading page 79 ...\n",
      "Loading page 80 ...\n",
      "Loading page 81 ...\n",
      "Loading page 82 ...\n",
      "Loading page 83 ...\n",
      "Loading page 84 ...\n",
      "Loading page 85 ...\n",
      "Loading page 86 ...\n",
      "Loading page 87 ...\n",
      "Loading page 88 ...\n",
      "Loading page 89 ...\n",
      "Loading page 90 ...\n",
      "Loading page 91 ...\n",
      "Loading page 92 ...\n",
      "Loading page 93 ...\n",
      "Loading page 94 ...\n",
      "Loading page 95 ...\n",
      "Loading page 96 ...\n",
      "Loading page 97 ...\n",
      "Loading page 98 ...\n",
      "Loading page 99 ...\n",
      "Loading page 100 ...\n",
      "Loading page 101 ...\n",
      "Loading page 102 ...\n",
      "Loading page 103 ...\n",
      "Loading page 104 ...\n",
      "Loading page 105 ...\n",
      "Loading page 106 ...\n",
      "Loading page 107 ...\n",
      "Loading page 108 ...\n",
      "Loading page 109 ...\n",
      "Loading page 110 ...\n",
      "Loading page 111 ...\n",
      "Loading page 112 ...\n",
      "Loading page 113 ...\n",
      "Loading page 114 ...\n",
      "Loading page 115 ...\n",
      "Loading page 116 ...\n",
      "Loading page 117 ...\n",
      "Loading page 118 ...\n",
      "Loading page 119 ...\n",
      "Loading page 120 ...\n",
      "Loading page 121 ...\n",
      "Loading page 122 ...\n",
      "Loading page 123 ...\n",
      "Loading page 124 ...\n",
      "Loading page 125 ...\n",
      "Loading page 126 ...\n",
      "Loading page 127 ...\n",
      "Loading page 128 ...\n",
      "Loading page 129 ...\n",
      "Loading page 130 ...\n",
      "Loading page 131 ...\n",
      "Loading page 132 ...\n",
      "Loading page 133 ...\n",
      "Loading page 134 ...\n",
      "Loading page 135 ...\n",
      "Loading page 136 ...\n",
      "Loading page 137 ...\n",
      "Loading page 138 ...\n",
      "Loading page 139 ...\n",
      "Loading page 140 ...\n",
      "Loading page 141 ...\n",
      "Loading page 142 ...\n",
      "Loading page 143 ...\n",
      "Found 14293 results\n",
      "got all tradeable stocks\n",
      "filterd for recent news\n",
      "too volatile\n",
      "too volatile\n",
      "too volatile\n",
      "too volatile\n",
      "filterd for volume\n",
      "1.0015089458935114\n",
      "1\n",
      "filterd for tredning stocks\n"
     ]
    },
    {
     "name": "stderr",
     "output_type": "stream",
     "text": [
      "/Users/asharifi/anaconda3/lib/python3.6/site-packages/google/auth/_default.py:69: UserWarning: Your application has authenticated using end user credentials from Google Cloud SDK. We recommend that most server applications use service accounts instead. If your application continues to use end user credentials from Cloud SDK, you might receive a \"quota exceeded\" or \"API not enabled\" error. For more information about service accounts, see https://cloud.google.com/docs/authentication/\n",
      "  warnings.warn(_CLOUD_SDK_CREDENTIALS_WARNING)\n"
     ]
    },
    {
     "name": "stdout",
     "output_type": "stream",
     "text": [
      "pushed to cloud\n",
      "14 13\n"
     ]
    }
   ],
   "source": [
    "current_time = datetime.now()\n",
    "current_time_form = (current_time.hour*100) + current_time.minute\n",
    "if current_time_form >= 600 and current_time_form <= 1445:\n",
    "    #push purchase list to cloud\n",
    "    print(current_time.hour, current_time.minute)\n",
    "    push_stock_purchase_list_to_cloud()\n",
    "    current_time = datetime.now()\n",
    "    print(current_time.hour, current_time.minute)\n",
    "    current_time_form = (current_time.hour*100) + current_time.minute"
   ]
  },
  {
   "cell_type": "code",
   "execution_count": 52,
   "metadata": {
    "scrolled": false
   },
   "outputs": [
    {
     "name": "stderr",
     "output_type": "stream",
     "text": [
      "/Users/asharifi/anaconda3/lib/python3.6/site-packages/google/auth/_default.py:69: UserWarning: Your application has authenticated using end user credentials from Google Cloud SDK. We recommend that most server applications use service accounts instead. If your application continues to use end user credentials from Cloud SDK, you might receive a \"quota exceeded\" or \"API not enabled\" error. For more information about service accounts, see https://cloud.google.com/docs/authentication/\n",
      "  warnings.warn(_CLOUD_SDK_CREDENTIALS_WARNING)\n"
     ]
    }
   ],
   "source": [
    "#for testing purposes\n",
    "#check to make sure its sorted somehow\n",
    "purchase_list = get_purchase_list_from_cloud()"
   ]
  },
  {
   "cell_type": "code",
   "execution_count": 84,
   "metadata": {
    "collapsed": true
   },
   "outputs": [
    {
     "name": "stdout",
     "output_type": "stream",
     "text": [
      "1004.51 28.17\n",
      "next stock for purchase:  AVNS\n",
      "enter somethingyup\n",
      "in while loop waitin for purchase to be filled\n",
      "in while loop waitin for purchase to be filled\n",
      "in while loop waitin for purchase to be filled\n",
      "in while loop waitin for purchase to be filled\n",
      "in while loop waitin for purchase to be filled\n",
      "in while loop waitin for purchase to be filled\n",
      "in while loop waitin for purchase to be filled\n",
      "in while loop waitin for purchase to be filled\n",
      "in while loop waitin for purchase to be filled\n",
      "in while loop waitin for purchase to be filled\n",
      "in while loop waitin for purchase to be filled\n",
      "in while loop waitin for purchase to be filled\n",
      "in while loop waitin for purchase to be filled\n",
      "in while loop waitin for purchase to be filled\n",
      "in while loop waitin for purchase to be filled\n",
      "in while loop waitin for purchase to be filled\n",
      "in while loop waitin for purchase to be filled\n",
      "in while loop waitin for purchase to be filled\n",
      "in while loop waitin for purchase to be filled\n"
     ]
    },
    {
     "ename": "KeyboardInterrupt",
     "evalue": "",
     "output_type": "error",
     "traceback": [
      "\u001b[0;31m---------------------------------------------------------------------------\u001b[0m",
      "\u001b[0;31mKeyboardInterrupt\u001b[0m                         Traceback (most recent call last)",
      "\u001b[0;32m<ipython-input-84-85c68be466ee>\u001b[0m in \u001b[0;36m<module>\u001b[0;34m()\u001b[0m\n\u001b[0;32m----> 1\u001b[0;31m \u001b[0mbuy_stock\u001b[0m\u001b[0;34m(\u001b[0m\u001b[0mpurchase_list\u001b[0m\u001b[0;34m)\u001b[0m\u001b[0;34m\u001b[0m\u001b[0m\n\u001b[0m",
      "\u001b[0;32m<ipython-input-82-ea12e4ee0b7b>\u001b[0m in \u001b[0;36mbuy_stock\u001b[0;34m(sorted_upward_trending_stocks)\u001b[0m\n\u001b[1;32m      7\u001b[0m             \u001b[0mtxt\u001b[0m \u001b[0;34m=\u001b[0m \u001b[0minput\u001b[0m\u001b[0;34m(\u001b[0m\u001b[0;34m\"enter something\"\u001b[0m\u001b[0;34m)\u001b[0m\u001b[0;34m\u001b[0m\u001b[0m\n\u001b[1;32m      8\u001b[0m \u001b[0;34m\u001b[0m\u001b[0m\n\u001b[0;32m----> 9\u001b[0;31m             \u001b[0;32mif\u001b[0m \u001b[0mplace_order\u001b[0m\u001b[0;34m(\u001b[0m\u001b[0mrow\u001b[0m\u001b[0;34m[\u001b[0m\u001b[0;34m\"symbol\"\u001b[0m\u001b[0;34m]\u001b[0m\u001b[0;34m)\u001b[0m\u001b[0;34m:\u001b[0m\u001b[0;34m\u001b[0m\u001b[0m\n\u001b[0m\u001b[1;32m     10\u001b[0m                 \u001b[0mprint\u001b[0m\u001b[0;34m(\u001b[0m\u001b[0;34m\"purchased\"\u001b[0m\u001b[0;34m,\u001b[0m \u001b[0;34m(\u001b[0m\u001b[0mrow\u001b[0m\u001b[0;34m[\u001b[0m\u001b[0;34m\"symbol\"\u001b[0m\u001b[0;34m]\u001b[0m\u001b[0;34m)\u001b[0m\u001b[0;34m)\u001b[0m\u001b[0;34m\u001b[0m\u001b[0m\n\u001b[1;32m     11\u001b[0m                 \u001b[0;31m#remove symbol from dataframe\u001b[0m\u001b[0;34m\u001b[0m\u001b[0;34m\u001b[0m\u001b[0m\n",
      "\u001b[0;32m<ipython-input-82-a9865f0ec219>\u001b[0m in \u001b[0;36mplace_order\u001b[0;34m(symbol)\u001b[0m\n\u001b[1;32m     22\u001b[0m         \u001b[0mresult\u001b[0m \u001b[0;34m=\u001b[0m \u001b[0mget_result\u001b[0m\u001b[0;34m[\u001b[0m\u001b[0;34m'state'\u001b[0m\u001b[0;34m]\u001b[0m\u001b[0;34m\u001b[0m\u001b[0m\n\u001b[1;32m     23\u001b[0m         \u001b[0mpost_buy_power\u001b[0m \u001b[0;34m=\u001b[0m \u001b[0mfloat\u001b[0m\u001b[0;34m(\u001b[0m\u001b[0mrs\u001b[0m\u001b[0;34m.\u001b[0m\u001b[0mprofiles\u001b[0m\u001b[0;34m.\u001b[0m\u001b[0mload_account_profile\u001b[0m\u001b[0;34m(\u001b[0m\u001b[0minfo\u001b[0m \u001b[0;34m=\u001b[0m \u001b[0;34m'portfolio_cash'\u001b[0m\u001b[0;34m)\u001b[0m\u001b[0;34m)\u001b[0m\u001b[0;34m\u001b[0m\u001b[0m\n\u001b[0;32m---> 24\u001b[0;31m         \u001b[0mtime\u001b[0m\u001b[0;34m.\u001b[0m\u001b[0msleep\u001b[0m\u001b[0;34m(\u001b[0m\u001b[0;36m2\u001b[0m\u001b[0;34m)\u001b[0m\u001b[0;34m\u001b[0m\u001b[0m\n\u001b[0m\u001b[1;32m     25\u001b[0m         \u001b[0mprint\u001b[0m\u001b[0;34m(\u001b[0m\u001b[0;34m\"in while loop waitin for purchase to be filled\"\u001b[0m\u001b[0;34m)\u001b[0m\u001b[0;34m\u001b[0m\u001b[0m\n\u001b[1;32m     26\u001b[0m     \u001b[0;31m#I need to confirm the purchase before setting the sell price\u001b[0m\u001b[0;34m\u001b[0m\u001b[0;34m\u001b[0m\u001b[0m\n",
      "\u001b[0;31mKeyboardInterrupt\u001b[0m: "
     ]
    }
   ],
   "source": [
    "#for testing purposes, this should ideally be located inside the while loop\n",
    "#WARNING, THIS FUNCTION WILL BUY STOCK ON YOUR ROBINHOOD ACCOUNT\n",
    "#BE CAREFUL\n",
    "buy_stock(purchase_list)"
   ]
  }
 ],
 "metadata": {
  "kernelspec": {
   "display_name": "Python 3",
   "language": "python",
   "name": "python3"
  },
  "language_info": {
   "codemirror_mode": {
    "name": "ipython",
    "version": 3
   },
   "file_extension": ".py",
   "mimetype": "text/x-python",
   "name": "python",
   "nbconvert_exporter": "python",
   "pygments_lexer": "ipython3",
   "version": "3.6.5"
  }
 },
 "nbformat": 4,
 "nbformat_minor": 4
}

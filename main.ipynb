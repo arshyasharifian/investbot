{
 "cells": [
  {
   "cell_type": "code",
   "execution_count": 25,
   "metadata": {
    "code_folding": [
     1
    ],
    "collapsed": true
   },
   "outputs": [
    {
     "data": {
      "text/plain": [
       "\"\\nTrading Algo PScode:\\n    initialize tradeable stocks list\\n    Iterate through list of stocks:\\n        if stock is tradeable\\n        AND if stock's most recent news is positive\\n        --IGNORING AND if stock most recent news has been posted in last 30 minutes:\\n        AND stock volume < avg. volume:\\n            add stock ticker and number of clicks to tradeable stock list\\n    --IGNORING FOR NOW: sort tradeable stocks list by number of clicks\\n    for each stock ticker:\\n        calculate 20 minute moving average\\n            stocks_price_day = rs.stocks.get_historicals(inputSymbols='tsla', span='day')\\n            get last 4 open prices and divide by 4 = 20 minute moving average\\n        #see if stock is trending upwards\\n        if 20 minute moving average > current_price:\\n            #place buy-limit order to buy at the current price \\n            robin_stocks.orders.order_buy_limit(symbol, quantity, limitPrice, timeInForce='gtc', extendedHours=False)\\n\""
      ]
     },
     "execution_count": 25,
     "metadata": {},
     "output_type": "execute_result"
    }
   ],
   "source": [
    "'''\n",
    "Trading Algo PScode:\n",
    "    initialize tradeable stocks list\n",
    "    Iterate through list of stocks:\n",
    "        if stock is tradeable\n",
    "        AND if stock's most recent news is positive\n",
    "        --IGNORING AND if stock most recent news has been posted in last 30 minutes:\n",
    "        AND stock volume < avg. volume:\n",
    "            add stock ticker and number of clicks to tradeable stock list\n",
    "    --IGNORING FOR NOW: sort tradeable stocks list by number of clicks\n",
    "    for each stock ticker:\n",
    "        calculate 20 minute moving average\n",
    "            stocks_price_day = rs.stocks.get_historicals(inputSymbols='tsla', span='day')\n",
    "            get last 4 open prices and divide by 4 = 20 minute moving average\n",
    "        #see if stock is trending upwards\n",
    "        if 20 minute moving average > current_price:\n",
    "            #place buy-limit order to buy at the current price \n",
    "            robin_stocks.orders.order_buy_limit(symbol, quantity, limitPrice, timeInForce='gtc', extendedHours=False)\n",
    "'''"
   ]
  },
  {
   "cell_type": "code",
   "execution_count": 2,
   "metadata": {
    "code_folding": []
   },
   "outputs": [],
   "source": [
    "#one time install\n",
    "#!pip install --user nbimporter"
   ]
  },
  {
   "cell_type": "code",
   "execution_count": 1,
   "metadata": {},
   "outputs": [
    {
     "name": "stdout",
     "output_type": "stream",
     "text": [
      "hello world\n"
     ]
    }
   ],
   "source": [
    "print(\"hello world\")"
   ]
  },
  {
   "cell_type": "code",
   "execution_count": 26,
   "metadata": {
    "scrolled": true
   },
   "outputs": [],
   "source": [
    "import kfp\n",
    "import kfp.components as comp\n",
    "import kfp.compiler as pipe_comp\n",
    "import robin_stocks as rs\n",
    "import pandas as pd\n",
    "import requests\n",
    "import numpy as np\n",
    "import nbimporter\n",
    "from typing import NamedTuple\n",
    "from collections import namedtuple\n",
    "from google.cloud import storage\n",
    "from datetime import timedelta, datetime\n",
    "import time"
   ]
  },
  {
   "cell_type": "code",
   "execution_count": 23,
   "metadata": {},
   "outputs": [],
   "source": [
    "#include functions from notebooks\n",
    "%run auth.ipynb\n",
    "%run recent_stock_news.ipynb\n",
    "%run check_volume.ipynb\n",
    "%run get_trending_stocks.ipynb\n",
    "%run purchase_stock.ipynb"
   ]
  },
  {
   "cell_type": "code",
   "execution_count": 24,
   "metadata": {
    "code_folding": []
   },
   "outputs": [
    {
     "name": "stdout",
     "output_type": "stream",
     "text": [
      "Importing Jupyter notebook from get_trending_stocks.ipynb\n",
      "Importing Jupyter notebook from purchase_stock.ipynb\n"
     ]
    }
   ],
   "source": [
    "#making notebook functions available\n",
    "import auth\n",
    "import recent_stock_news\n",
    "import check_volume\n",
    "import get_trending_stocks\n",
    "import purchase_stock"
   ]
  },
  {
   "cell_type": "code",
   "execution_count": 20,
   "metadata": {},
   "outputs": [],
   "source": [
    "get_header = rh_auth(username='', password='')"
   ]
  },
  {
   "cell_type": "code",
   "execution_count": 27,
   "metadata": {
    "code_folding": [],
    "scrolled": true
   },
   "outputs": [
    {
     "name": "stderr",
     "output_type": "stream",
     "text": [
      "/Users/asharifi/anaconda3/lib/python3.6/site-packages/google/auth/_default.py:69: UserWarning: Your application has authenticated using end user credentials from Google Cloud SDK. We recommend that most server applications use service accounts instead. If your application continues to use end user credentials from Cloud SDK, you might receive a \"quota exceeded\" or \"API not enabled\" error. For more information about service accounts, see https://cloud.google.com/docs/authentication/\n",
      "  warnings.warn(_CLOUD_SDK_CREDENTIALS_WARNING)\n"
     ]
    },
    {
     "name": "stdout",
     "output_type": "stream",
     "text": [
      "number of tradeable stocks  8515\n"
     ]
    }
   ],
   "source": [
    "#main\n",
    "#gets list of tradeable stocks that have recent news\n",
    "recent_news_stocks = filter_recent_news()\n",
    "#removing volatile stocks, stock with a lot of volume\n",
    "stable_current_tradeable_stocks = remove_high_vol_stocks(recent_news_stocks)\n",
    "#filtering for trending stocks\n",
    "upward_trending_stocks = filter_trending_stock(stable_current_tradeable_stocks)\n",
    "#sorting stocks based on trend\n",
    "sorted_upward_trending_stocks = upward_trending_stocks.sort_values(by=\"TrendRate\", ascending=False)\n",
    "#pass stocks to function that tries to purchase"
   ]
  },
  {
   "cell_type": "code",
   "execution_count": 78,
   "metadata": {
    "code_folding": [],
    "collapsed": true
   },
   "outputs": [
    {
     "name": "stdout",
     "output_type": "stream",
     "text": [
      "for  5.4837 , latest price is  5.4837\n",
      "{'id': '000ee8c6-d3b0-4032-836b-140aeffcd87f', 'ref_id': '52266c4e-6b2f-43a7-9974-1194d00dddf9', 'url': 'https://api.robinhood.com/orders/000ee8c6-d3b0-4032-836b-140aeffcd87f/', 'account': 'https://api.robinhood.com/accounts/5QV61626/', 'position': 'https://api.robinhood.com/positions/5QV61626/88ac0099-86fb-4641-85bd-d8ac8d5e8942/', 'cancel': 'https://api.robinhood.com/orders/000ee8c6-d3b0-4032-836b-140aeffcd87f/cancel/', 'instrument': 'https://api.robinhood.com/instruments/88ac0099-86fb-4641-85bd-d8ac8d5e8942/', 'cumulative_quantity': '0.00000000', 'average_price': None, 'fees': '0.00', 'state': 'unconfirmed', 'type': 'limit', 'side': 'buy', 'time_in_force': 'gtc', 'trigger': 'immediate', 'price': '5.48000000', 'stop_price': None, 'quantity': '1.00000000', 'reject_reason': None, 'created_at': '2020-05-12T16:54:40.721547Z', 'updated_at': '2020-05-12T16:54:40.771552Z', 'last_transaction_at': '2020-05-12T16:54:40.721547Z', 'executions': [], 'extended_hours': False, 'override_dtbp_checks': False, 'override_day_trade_checks': False, 'response_category': None, 'stop_triggered_at': None, 'last_trail_price': None, 'last_trail_price_updated_at': None, 'dollar_based_amount': None, 'total_notional': {'amount': '5.48', 'currency_code': 'USD', 'currency_id': '1072fc76-1862-41ab-82c2-485837590762'}, 'executed_notional': None, 'investment_schedule_id': None}\n",
      "for  1.55 , latest price is  1.55\n",
      "{'id': 'bb93b8ea-0642-423e-8f5b-714cfcb11d36', 'ref_id': 'f61cee3a-b1a4-48f1-ae61-32255396577e', 'url': 'https://api.robinhood.com/orders/bb93b8ea-0642-423e-8f5b-714cfcb11d36/', 'account': 'https://api.robinhood.com/accounts/5QV61626/', 'position': 'https://api.robinhood.com/positions/5QV61626/cd71bfd5-c85d-485e-a6bd-877215a810e3/', 'cancel': 'https://api.robinhood.com/orders/bb93b8ea-0642-423e-8f5b-714cfcb11d36/cancel/', 'instrument': 'https://api.robinhood.com/instruments/cd71bfd5-c85d-485e-a6bd-877215a810e3/', 'cumulative_quantity': '0.00000000', 'average_price': None, 'fees': '0.00', 'state': 'unconfirmed', 'type': 'limit', 'side': 'buy', 'time_in_force': 'gtc', 'trigger': 'immediate', 'price': '1.55000000', 'stop_price': None, 'quantity': '1.00000000', 'reject_reason': None, 'created_at': '2020-05-12T16:54:42.893504Z', 'updated_at': '2020-05-12T16:54:42.945475Z', 'last_transaction_at': '2020-05-12T16:54:42.893504Z', 'executions': [], 'extended_hours': False, 'override_dtbp_checks': False, 'override_day_trade_checks': False, 'response_category': None, 'stop_triggered_at': None, 'last_trail_price': None, 'last_trail_price_updated_at': None, 'dollar_based_amount': None, 'total_notional': {'amount': '1.55', 'currency_code': 'USD', 'currency_id': '1072fc76-1862-41ab-82c2-485837590762'}, 'executed_notional': None, 'investment_schedule_id': None}\n",
      "for  1.705 , latest price is  1.705\n",
      "{'id': 'b6c4b114-83df-4a0f-9c6b-909b02b68837', 'ref_id': 'bf6e59e5-b58c-4909-8f2c-75b7e3f29544', 'url': 'https://api.robinhood.com/orders/b6c4b114-83df-4a0f-9c6b-909b02b68837/', 'account': 'https://api.robinhood.com/accounts/5QV61626/', 'position': 'https://api.robinhood.com/positions/5QV61626/f71123c6-d1de-4e1f-8045-55c474bd54e1/', 'cancel': 'https://api.robinhood.com/orders/b6c4b114-83df-4a0f-9c6b-909b02b68837/cancel/', 'instrument': 'https://api.robinhood.com/instruments/f71123c6-d1de-4e1f-8045-55c474bd54e1/', 'cumulative_quantity': '0.00000000', 'average_price': None, 'fees': '0.00', 'state': 'unconfirmed', 'type': 'limit', 'side': 'buy', 'time_in_force': 'gtc', 'trigger': 'immediate', 'price': '1.71000000', 'stop_price': None, 'quantity': '1.00000000', 'reject_reason': None, 'created_at': '2020-05-12T16:54:44.915329Z', 'updated_at': '2020-05-12T16:54:44.992049Z', 'last_transaction_at': '2020-05-12T16:54:44.915329Z', 'executions': [], 'extended_hours': False, 'override_dtbp_checks': False, 'override_day_trade_checks': False, 'response_category': None, 'stop_triggered_at': None, 'last_trail_price': None, 'last_trail_price_updated_at': None, 'dollar_based_amount': None, 'total_notional': {'amount': '1.71', 'currency_code': 'USD', 'currency_id': '1072fc76-1862-41ab-82c2-485837590762'}, 'executed_notional': None, 'investment_schedule_id': None}\n",
      "for  9.93 , latest price is  9.93\n",
      "{'id': '7204b6e8-d563-40f6-9bb9-602cd24fa597', 'ref_id': 'b6c5d2fc-2b6e-44a4-820c-e4db431d8fed', 'url': 'https://api.robinhood.com/orders/7204b6e8-d563-40f6-9bb9-602cd24fa597/', 'account': 'https://api.robinhood.com/accounts/5QV61626/', 'position': 'https://api.robinhood.com/positions/5QV61626/0331af96-8e58-4183-8deb-808c502862e9/', 'cancel': 'https://api.robinhood.com/orders/7204b6e8-d563-40f6-9bb9-602cd24fa597/cancel/', 'instrument': 'https://api.robinhood.com/instruments/0331af96-8e58-4183-8deb-808c502862e9/', 'cumulative_quantity': '0.00000000', 'average_price': None, 'fees': '0.00', 'state': 'unconfirmed', 'type': 'limit', 'side': 'buy', 'time_in_force': 'gtc', 'trigger': 'immediate', 'price': '9.93000000', 'stop_price': None, 'quantity': '1.00000000', 'reject_reason': None, 'created_at': '2020-05-12T16:54:46.899915Z', 'updated_at': '2020-05-12T16:54:46.977868Z', 'last_transaction_at': '2020-05-12T16:54:46.899915Z', 'executions': [], 'extended_hours': False, 'override_dtbp_checks': False, 'override_day_trade_checks': False, 'response_category': None, 'stop_triggered_at': None, 'last_trail_price': None, 'last_trail_price_updated_at': None, 'dollar_based_amount': None, 'total_notional': {'amount': '9.93', 'currency_code': 'USD', 'currency_id': '1072fc76-1862-41ab-82c2-485837590762'}, 'executed_notional': None, 'investment_schedule_id': None}\n",
      "for  0.617 , latest price is  0.617\n",
      "{'id': '6c3cfb5b-1d06-4ccc-b232-e0f4f3bf8d9b', 'ref_id': '9e93151c-d932-4f74-8548-f72faab14275', 'url': 'https://api.robinhood.com/orders/6c3cfb5b-1d06-4ccc-b232-e0f4f3bf8d9b/', 'account': 'https://api.robinhood.com/accounts/5QV61626/', 'position': 'https://api.robinhood.com/positions/5QV61626/008e7265-5c45-48f3-a951-9274f0a8a504/', 'cancel': 'https://api.robinhood.com/orders/6c3cfb5b-1d06-4ccc-b232-e0f4f3bf8d9b/cancel/', 'instrument': 'https://api.robinhood.com/instruments/008e7265-5c45-48f3-a951-9274f0a8a504/', 'cumulative_quantity': '0.00000000', 'average_price': None, 'fees': '0.00', 'state': 'unconfirmed', 'type': 'limit', 'side': 'buy', 'time_in_force': 'gtc', 'trigger': 'immediate', 'price': '0.62000000', 'stop_price': None, 'quantity': '1.00000000', 'reject_reason': None, 'created_at': '2020-05-12T16:54:49.348023Z', 'updated_at': '2020-05-12T16:54:49.425113Z', 'last_transaction_at': '2020-05-12T16:54:49.348023Z', 'executions': [], 'extended_hours': False, 'override_dtbp_checks': False, 'override_day_trade_checks': False, 'response_category': None, 'stop_triggered_at': None, 'last_trail_price': None, 'last_trail_price_updated_at': None, 'dollar_based_amount': None, 'total_notional': {'amount': '0.62', 'currency_code': 'USD', 'currency_id': '1072fc76-1862-41ab-82c2-485837590762'}, 'executed_notional': None, 'investment_schedule_id': None}\n",
      "for  1.665 , latest price is  1.665\n",
      "{'id': '9a41fcb9-3243-4067-a4a3-ba7ccd5b0fb0', 'ref_id': '11ee11ba-d711-4d77-a403-9b3f7da28394', 'url': 'https://api.robinhood.com/orders/9a41fcb9-3243-4067-a4a3-ba7ccd5b0fb0/', 'account': 'https://api.robinhood.com/accounts/5QV61626/', 'position': 'https://api.robinhood.com/positions/5QV61626/172d2717-6de5-4ad6-b23f-2bafe9752254/', 'cancel': 'https://api.robinhood.com/orders/9a41fcb9-3243-4067-a4a3-ba7ccd5b0fb0/cancel/', 'instrument': 'https://api.robinhood.com/instruments/172d2717-6de5-4ad6-b23f-2bafe9752254/', 'cumulative_quantity': '0.00000000', 'average_price': None, 'fees': '0.00', 'state': 'unconfirmed', 'type': 'limit', 'side': 'buy', 'time_in_force': 'gtc', 'trigger': 'immediate', 'price': '1.67000000', 'stop_price': None, 'quantity': '1.00000000', 'reject_reason': None, 'created_at': '2020-05-12T16:54:51.805809Z', 'updated_at': '2020-05-12T16:54:51.884764Z', 'last_transaction_at': '2020-05-12T16:54:51.805809Z', 'executions': [], 'extended_hours': False, 'override_dtbp_checks': False, 'override_day_trade_checks': False, 'response_category': None, 'stop_triggered_at': None, 'last_trail_price': None, 'last_trail_price_updated_at': None, 'dollar_based_amount': None, 'total_notional': {'amount': '1.67', 'currency_code': 'USD', 'currency_id': '1072fc76-1862-41ab-82c2-485837590762'}, 'executed_notional': None, 'investment_schedule_id': None}\n"
     ]
    },
    {
     "name": "stdout",
     "output_type": "stream",
     "text": [
      "for  2.22 , latest price is  2.22\n",
      "{'detail': 'You can only purchase 0 shares of AGFS.'}\n"
     ]
    },
    {
     "ename": "KeyError",
     "evalue": "'state'",
     "output_type": "error",
     "traceback": [
      "\u001b[0;31m---------------------------------------------------------------------------\u001b[0m",
      "\u001b[0;31mKeyError\u001b[0m                                  Traceback (most recent call last)",
      "\u001b[0;32m<ipython-input-78-bc2c72a05c8a>\u001b[0m in \u001b[0;36m<module>\u001b[0;34m()\u001b[0m\n\u001b[0;32m----> 1\u001b[0;31m \u001b[0mbuy_stock\u001b[0m\u001b[0;34m(\u001b[0m\u001b[0msorted_upward_trending_stocks\u001b[0m\u001b[0;34m)\u001b[0m\u001b[0;34m\u001b[0m\u001b[0m\n\u001b[0m",
      "\u001b[0;32m<ipython-input-33-2f9ddfb35eb0>\u001b[0m in \u001b[0;36mbuy_stock\u001b[0;34m(sorted_upward_trending_stocks)\u001b[0m\n\u001b[1;32m      3\u001b[0m     \u001b[0;32mfor\u001b[0m \u001b[0mindex\u001b[0m\u001b[0;34m,\u001b[0m \u001b[0mrow\u001b[0m \u001b[0;32min\u001b[0m \u001b[0msorted_upward_trending_stocks\u001b[0m\u001b[0;34m.\u001b[0m\u001b[0miterrows\u001b[0m\u001b[0;34m(\u001b[0m\u001b[0;34m)\u001b[0m\u001b[0;34m:\u001b[0m\u001b[0;34m\u001b[0m\u001b[0m\n\u001b[1;32m      4\u001b[0m         \u001b[0;32mif\u001b[0m \u001b[0menough_money\u001b[0m\u001b[0;34m(\u001b[0m\u001b[0mrow\u001b[0m\u001b[0;34m[\u001b[0m\u001b[0;34m\"symbol\"\u001b[0m\u001b[0;34m]\u001b[0m\u001b[0;34m)\u001b[0m\u001b[0;34m:\u001b[0m\u001b[0;34m\u001b[0m\u001b[0m\n\u001b[0;32m----> 5\u001b[0;31m             \u001b[0;32mif\u001b[0m \u001b[0mplace_order\u001b[0m\u001b[0;34m(\u001b[0m\u001b[0mrow\u001b[0m\u001b[0;34m[\u001b[0m\u001b[0;34m\"symbol\"\u001b[0m\u001b[0;34m]\u001b[0m\u001b[0;34m)\u001b[0m\u001b[0;34m:\u001b[0m\u001b[0;34m\u001b[0m\u001b[0m\n\u001b[0m\u001b[1;32m      6\u001b[0m                 \u001b[0mprint\u001b[0m\u001b[0;34m(\u001b[0m\u001b[0;34m\"purchased\"\u001b[0m\u001b[0;34m,\u001b[0m \u001b[0;34m(\u001b[0m\u001b[0mrow\u001b[0m\u001b[0;34m[\u001b[0m\u001b[0;34m\"symbol\"\u001b[0m\u001b[0;34m]\u001b[0m\u001b[0;34m)\u001b[0m\u001b[0;34m)\u001b[0m\u001b[0;34m\u001b[0m\u001b[0m\n\u001b[1;32m      7\u001b[0m                 \u001b[0;32mreturn\u001b[0m \u001b[0;32mNone\u001b[0m\u001b[0;34m\u001b[0m\u001b[0m\n",
      "\u001b[0;32m<ipython-input-77-71904b235d68>\u001b[0m in \u001b[0;36mplace_order\u001b[0;34m(symbol)\u001b[0m\n\u001b[1;32m     10\u001b[0m     \u001b[0mprint\u001b[0m\u001b[0;34m(\u001b[0m\u001b[0morder_dict\u001b[0m\u001b[0;34m)\u001b[0m\u001b[0;34m\u001b[0m\u001b[0m\n\u001b[1;32m     11\u001b[0m     \u001b[0;31m#if purchased\u001b[0m\u001b[0;34m\u001b[0m\u001b[0;34m\u001b[0m\u001b[0m\n\u001b[0;32m---> 12\u001b[0;31m     \u001b[0mresult\u001b[0m \u001b[0;34m=\u001b[0m \u001b[0morder_dict\u001b[0m\u001b[0;34m[\u001b[0m\u001b[0;34m'state'\u001b[0m\u001b[0;34m]\u001b[0m\u001b[0;34m\u001b[0m\u001b[0m\n\u001b[0m\u001b[1;32m     13\u001b[0m     \u001b[0;31m#this confirms the order is filled\u001b[0m\u001b[0;34m\u001b[0m\u001b[0;34m\u001b[0m\u001b[0m\n\u001b[1;32m     14\u001b[0m     \u001b[0;32mwhile\u001b[0m \u001b[0mresult\u001b[0m \u001b[0;34m!=\u001b[0m \u001b[0;34m'filled'\u001b[0m\u001b[0;34m:\u001b[0m\u001b[0;34m\u001b[0m\u001b[0m\n",
      "\u001b[0;31mKeyError\u001b[0m: 'state'"
     ]
    }
   ],
   "source": [
    "#WARNING: ACTUALLY PURCHASES STOCK based on your available cash\n",
    "#will continue until you have no more cash or there are no more trending\n",
    "#stock to purchase\n",
    "buy_stock(sorted_upward_trending_stocks)"
   ]
  }
 ],
 "metadata": {
  "kernelspec": {
   "display_name": "Python 3",
   "language": "python",
   "name": "python3"
  },
  "language_info": {
   "codemirror_mode": {
    "name": "ipython",
    "version": 3
   },
   "file_extension": ".py",
   "mimetype": "text/x-python",
   "name": "python",
   "nbconvert_exporter": "python",
   "pygments_lexer": "ipython3",
   "version": "3.6.5"
  }
 },
 "nbformat": 4,
 "nbformat_minor": 4
}

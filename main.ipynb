{
 "cells": [
  {
   "cell_type": "code",
   "execution_count": null,
   "metadata": {
    "ExecuteTime": {
     "end_time": "2020-06-25T23:53:25.264260Z",
     "start_time": "2020-06-25T23:53:18.935309Z"
    },
    "scrolled": true
   },
   "outputs": [],
   "source": [
    "import robin_stocks as rs #the robinhood api wrapper\n",
    "import pandas as pd #for creating CSV files\n",
    "from datetime import timedelta, datetime #for getting current time and converting recent news timestamps\n",
    "import time #for sleep timer\n",
    "import csv #for creating CSV file of stock purchase list"
   ]
  },
  {
   "cell_type": "code",
   "execution_count": null,
   "metadata": {
    "ExecuteTime": {
     "end_time": "2020-06-25T23:53:26.569501Z",
     "start_time": "2020-06-25T23:53:26.009503Z"
    }
   },
   "outputs": [],
   "source": [
    "#include functions from notebooks\n",
    "%run auth.ipynb\n",
    "%run recent_stock_news.ipynb\n",
    "%run check_volume.ipynb\n",
    "%run get_trending_stocks.ipynb\n",
    "%run purchase_stock.ipynb\n",
    "%run tradeable_stocks.ipynb\n",
    "%run cloud_CSV_storage.ipynb"
   ]
  },
  {
   "cell_type": "code",
   "execution_count": null,
   "metadata": {
    "ExecuteTime": {
     "end_time": "2020-06-25T23:53:45.746502Z",
     "start_time": "2020-06-25T23:53:45.268850Z"
    }
   },
   "outputs": [],
   "source": [
    "#authenticate robinhood account\n",
    "get_header = rh_auth(username='', password='')"
   ]
  },
  {
   "cell_type": "code",
   "execution_count": null,
   "metadata": {
    "ExecuteTime": {
     "end_time": "2020-06-25T23:53:52.835364Z",
     "start_time": "2020-06-25T23:53:52.831209Z"
    }
   },
   "outputs": [],
   "source": [
    "def market_is_open():\n",
    "    #get current time\n",
    "    current_time = datetime.now()\n",
    "    #format currrent time\n",
    "    current_time_form = (current_time.hour * 100) + current_time.minute\n",
    "    if current_time_form >= 600 and current_time_form <= 1230:\n",
    "        return True\n",
    "    else:\n",
    "        return False"
   ]
  },
  {
   "cell_type": "code",
   "execution_count": null,
   "metadata": {
    "ExecuteTime": {
     "end_time": "2020-06-25T23:53:53.109174Z",
     "start_time": "2020-06-25T23:53:53.104057Z"
    },
    "code_folding": []
   },
   "outputs": [],
   "source": [
    "def trade():\n",
    "    #get current time\n",
    "    current_time = datetime.now()\n",
    "    #Inform user that process is beginning again\n",
    "    print(\"Algorithm starting at \", current_time.hour, current_time.minute)\n",
    "    \n",
    "    #apply filters to tradeable stocks\n",
    "    #push_stock_purchase_list_to_cloud(all_tradeable_stocks)\n",
    "    filter_tradeable_stocks(all_tradeable_stocks)\n",
    "    \n",
    "    #get purchase list \n",
    "    #purchase_list = get_purchase_list_from_cloud()\n",
    "    purchase_list = get_sorted_purchase_list()\n",
    "    \n",
    "    #if there is more than 0 stocks in purchase list\n",
    "    if len(purchase_list) > 0:\n",
    "        #send purchase list to buy stock which tries to purchase stocks\n",
    "        buy_stock(purchase_list)"
   ]
  },
  {
   "cell_type": "code",
   "execution_count": null,
   "metadata": {
    "ExecuteTime": {
     "end_time": "2020-06-26T00:12:50.662561Z",
     "start_time": "2020-06-26T00:12:50.657957Z"
    }
   },
   "outputs": [],
   "source": [
    "def sell_order_past_hour(order_time_conv_pst):\n",
    "    curr_time = datetime.now()\n",
    "    curr_time_form = curr_time.strftime(\"%Y-%m-%d %H:%M:%S\")\n",
    "    curr_time_form = str(curr_time_form)\n",
    "    \n",
    "    curr_time_conv = datetime.strptime(curr_time_form, \"%Y-%m-%d %H:%M:%S\")\n",
    "\n",
    "    diff = curr_time_conv-order_time_conv_pst\n",
    "    \n",
    "    if diff.total_seconds() > 3600:\n",
    "        print(diff.total_seconds())\n",
    "        return True\n",
    "    else:\n",
    "        return False\n",
    "    "
   ]
  },
  {
   "cell_type": "code",
   "execution_count": null,
   "metadata": {
    "ExecuteTime": {
     "end_time": "2020-06-26T00:12:10.128115Z",
     "start_time": "2020-06-26T00:12:10.124199Z"
    }
   },
   "outputs": [],
   "source": [
    "def get_PST_time(order_time):\n",
    "    order_time_form = order_time.replace('T', \" \")\n",
    "    order_time_form = order_time_form.replace ('Z', \"\")\n",
    "    order_time_conv = datetime.strptime(order_time_form, \"%Y-%m-%d %H:%M:%S.%f\")\n",
    "    order_time_conv_pst = order_time_conv - timedelta(hours=7) \n",
    "    return order_time_conv_pst"
   ]
  },
  {
   "cell_type": "code",
   "execution_count": null,
   "metadata": {
    "ExecuteTime": {
     "end_time": "2020-06-26T00:23:03.899374Z",
     "start_time": "2020-06-26T00:23:03.894892Z"
    }
   },
   "outputs": [],
   "source": [
    "def get_sell_limit_orders():\n",
    "    sell_limit_orders = []\n",
    "    #get all stock orders\n",
    "    orders_list = rs.get_all_stock_orders()\n",
    "    for orders in orders_list:\n",
    "        if orders['side'] == 'sell' and orders['state'] == 'confirmed':\n",
    "            #order_id and created_time\n",
    "            #print(orders)\n",
    "            #print('\\n')\n",
    "            #instrument needed\n",
    "            instrument = orders['instrument']\n",
    "            ticker = rs.stocks.get_symbol_by_url(instrument)\n",
    "            print(ticker)\n",
    "            \n",
    "            append_val = [orders['id'], orders['created_at'], ticker]\n",
    "            sell_limit_orders.append(append_val)\n",
    "    return sell_limit_orders"
   ]
  },
  {
   "cell_type": "code",
   "execution_count": null,
   "metadata": {
    "ExecuteTime": {
     "end_time": "2020-06-26T00:23:07.245794Z",
     "start_time": "2020-06-26T00:23:06.212450Z"
    }
   },
   "outputs": [],
   "source": [
    "#DO THIS MANUALLY BEFORE PUTTING INTO PROD\n",
    "\n",
    "#get orderIDs for all sell limit order\n",
    "sell_limit_orders = get_sell_limit_orders()\n",
    "#if sell limit order has been in place for more than an hour\n",
    "for orders in sell_limit_orders:\n",
    "    order_time_conv_pst = get_PST_time(orders[1])\n",
    "    if sell_order_past_hour(order_time_conv_pst):\n",
    "        print (\"past hour\")\n",
    "        \n",
    "        #cancel the sell limit order\n",
    "        #rs.orders.cancel_stock_order(orders[0])\n",
    "        \n",
    "        #PROBABLY HAVE TO CHECK THAT ORDER IS CANCELLED BEFORE SELLING SHARE\n",
    "        \n",
    "        #place an immediate sell order for that share\n",
    "        #robin_stocks.orders.order_sell_market(symbol, shares, timeInForce='gtc', extendedHours=False)\n",
    "        #rs.orders.order_sell_market(orders[2], 1, timeInForce='gtc', extendedHours=False)"
   ]
  },
  {
   "cell_type": "code",
   "execution_count": null,
   "metadata": {
    "ExecuteTime": {
     "end_time": "2020-06-25T23:52:53.729313Z",
     "start_time": "2020-06-25T23:52:40.728800Z"
    }
   },
   "outputs": [],
   "source": [
    "all_tradeable_stocks = get_tradeable_stocks()"
   ]
  },
  {
   "cell_type": "code",
   "execution_count": null,
   "metadata": {
    "ExecuteTime": {
     "end_time": "2020-06-24T17:50:02.510027Z",
     "start_time": "2020-06-24T17:09:17.719160Z"
    }
   },
   "outputs": [],
   "source": [
    "while True:\n",
    "    if market_is_open():\n",
    "        trade()"
   ]
  }
 ],
 "metadata": {
  "kernelspec": {
   "display_name": "Python 3",
   "language": "python",
   "name": "python3"
  },
  "language_info": {
   "codemirror_mode": {
    "name": "ipython",
    "version": 3
   },
   "file_extension": ".py",
   "mimetype": "text/x-python",
   "name": "python",
   "nbconvert_exporter": "python",
   "pygments_lexer": "ipython3",
   "version": "3.6.5"
  },
  "varInspector": {
   "cols": {
    "lenName": 16,
    "lenType": 16,
    "lenVar": 40
   },
   "kernels_config": {
    "python": {
     "delete_cmd_postfix": "",
     "delete_cmd_prefix": "del ",
     "library": "var_list.py",
     "varRefreshCmd": "print(var_dic_list())"
    },
    "r": {
     "delete_cmd_postfix": ") ",
     "delete_cmd_prefix": "rm(",
     "library": "var_list.r",
     "varRefreshCmd": "cat(var_dic_list()) "
    }
   },
   "types_to_exclude": [
    "module",
    "function",
    "builtin_function_or_method",
    "instance",
    "_Feature"
   ],
   "window_display": false
  }
 },
 "nbformat": 4,
 "nbformat_minor": 4
}

{
 "cells": [
  {
   "cell_type": "code",
   "execution_count": 1,
   "metadata": {
    "ExecuteTime": {
     "end_time": "2020-06-15T21:42:48.449270Z",
     "start_time": "2020-06-15T21:42:41.374546Z"
    },
    "scrolled": true
   },
   "outputs": [],
   "source": [
    "import kfp\n",
    "import kfp.components as comp\n",
    "import kfp.compiler as pipe_comp\n",
    "import robin_stocks as rs\n",
    "import pandas as pd\n",
    "import requests\n",
    "import numpy as np\n",
    "import nbimporter\n",
    "from typing import NamedTuple\n",
    "from collections import namedtuple\n",
    "from google.cloud import storage\n",
    "from datetime import timedelta, datetime\n",
    "import time\n",
    "import csv\n",
    "import dash\n",
    "from tqdm import tqdm"
   ]
  },
  {
   "cell_type": "code",
   "execution_count": 17,
   "metadata": {
    "ExecuteTime": {
     "end_time": "2020-06-15T22:12:10.321654Z",
     "start_time": "2020-06-15T22:12:10.317130Z"
    }
   },
   "outputs": [],
   "source": [
    "import dash_core_components as dcc\n",
    "import dash_html_components as html\n",
    "from dash.dependencies import Input, Output\n",
    "import plotly.graph_objects as go\n",
    "import numpy as np"
   ]
  },
  {
   "cell_type": "code",
   "execution_count": 27,
   "metadata": {
    "ExecuteTime": {
     "end_time": "2020-06-15T22:45:24.620370Z",
     "start_time": "2020-06-15T22:45:24.571633Z"
    }
   },
   "outputs": [],
   "source": [
    "#include functions from notebooks\n",
    "%run auth.ipynb\n",
    "%run recent_stock_news.ipynb\n",
    "%run check_volume.ipynb\n",
    "%run get_trending_stocks.ipynb\n",
    "%run purchase_stock.ipynb\n",
    "%run tradeable_stocks.ipynb\n",
    "%run cloud_CSV_storage.ipynb"
   ]
  },
  {
   "cell_type": "code",
   "execution_count": 28,
   "metadata": {
    "ExecuteTime": {
     "end_time": "2020-06-15T22:45:24.847003Z",
     "start_time": "2020-06-15T22:45:24.842048Z"
    },
    "code_folding": []
   },
   "outputs": [],
   "source": [
    "#making notebook functions available\n",
    "import auth\n",
    "import recent_stock_news\n",
    "import check_volume\n",
    "import get_trending_stocks\n",
    "import purchase_stock\n",
    "import tradeable_stocks\n",
    "import cloud_CSV_storage"
   ]
  },
  {
   "cell_type": "code",
   "execution_count": 9,
   "metadata": {
    "ExecuteTime": {
     "end_time": "2020-06-15T21:43:12.063554Z",
     "start_time": "2020-06-15T21:42:59.198422Z"
    }
   },
   "outputs": [
    {
     "name": "stdout",
     "output_type": "stream",
     "text": [
      "ERROR: There was an issue loading pickle file. Authentication may be expired - logging in normally.\n",
      "Please type in the MFA code: 170886\n"
     ]
    }
   ],
   "source": [
    "#shutdown worked to clear cache \n",
    "#I think the solution is a try get_header\n",
    "#except we need to shutdown the kernal and rerun all the cells\n",
    "get_header = rh_auth(username='', password='')"
   ]
  },
  {
   "cell_type": "code",
   "execution_count": 22,
   "metadata": {
    "ExecuteTime": {
     "end_time": "2020-06-15T22:19:53.287008Z",
     "start_time": "2020-06-15T22:18:44.477224Z"
    },
    "collapsed": true
   },
   "outputs": [
    {
     "name": "stdout",
     "output_type": "stream",
     "text": [
      "Found Additional pages.\n",
      "Loading page 2 ...\n",
      "Loading page 3 ...\n",
      "Loading page 4 ...\n",
      "Loading page 5 ...\n",
      "Loading page 6 ...\n",
      "Loading page 7 ...\n",
      "Loading page 8 ...\n",
      "Loading page 9 ...\n",
      "Loading page 10 ...\n",
      "Loading page 11 ...\n",
      "Loading page 12 ...\n",
      "Loading page 13 ...\n",
      "Loading page 14 ...\n",
      "Loading page 15 ...\n",
      "Loading page 16 ...\n",
      "Loading page 17 ...\n",
      "Loading page 18 ...\n",
      "Loading page 19 ...\n",
      "Loading page 20 ...\n",
      "Loading page 21 ...\n",
      "Loading page 22 ...\n",
      "Loading page 23 ...\n",
      "Loading page 24 ...\n",
      "Loading page 25 ...\n",
      "Loading page 26 ...\n",
      "Loading page 27 ...\n",
      "Loading page 28 ...\n",
      "Loading page 29 ...\n",
      "Loading page 30 ...\n",
      "Loading page 31 ...\n",
      "Loading page 32 ...\n",
      "Loading page 33 ...\n",
      "Loading page 34 ...\n",
      "Loading page 35 ...\n",
      "Loading page 36 ...\n",
      "Loading page 37 ...\n",
      "Loading page 38 ...\n",
      "Loading page 39 ...\n",
      "Loading page 40 ...\n",
      "Loading page 41 ...\n",
      "Loading page 42 ...\n",
      "Loading page 43 ...\n",
      "Loading page 44 ...\n",
      "Loading page 45 ...\n",
      "Loading page 46 ...\n",
      "Loading page 47 ...\n",
      "Loading page 48 ...\n",
      "Loading page 49 ...\n",
      "Loading page 50 ...\n",
      "Loading page 51 ...\n",
      "Loading page 52 ...\n",
      "Loading page 53 ...\n",
      "Loading page 54 ...\n",
      "Loading page 55 ...\n",
      "Loading page 56 ...\n",
      "Loading page 57 ...\n",
      "Loading page 58 ...\n",
      "Loading page 59 ...\n",
      "Loading page 60 ...\n",
      "Loading page 61 ...\n",
      "Loading page 62 ...\n",
      "Loading page 63 ...\n",
      "Loading page 64 ...\n",
      "Loading page 65 ...\n",
      "Loading page 66 ...\n",
      "Loading page 67 ...\n",
      "Loading page 68 ...\n",
      "Loading page 69 ...\n",
      "Loading page 70 ...\n",
      "Loading page 71 ...\n",
      "Loading page 72 ...\n",
      "Loading page 73 ...\n",
      "Loading page 74 ...\n",
      "Loading page 75 ...\n",
      "Loading page 76 ...\n",
      "Loading page 77 ...\n",
      "Loading page 78 ...\n",
      "Loading page 79 ...\n",
      "Loading page 80 ...\n",
      "Loading page 81 ...\n",
      "Loading page 82 ...\n",
      "Loading page 83 ...\n",
      "Loading page 84 ...\n",
      "Loading page 85 ...\n",
      "Loading page 86 ...\n",
      "Loading page 87 ...\n",
      "Loading page 88 ...\n",
      "Loading page 89 ...\n",
      "Loading page 90 ...\n",
      "Loading page 91 ...\n",
      "Loading page 92 ...\n",
      "Loading page 93 ...\n",
      "Loading page 94 ...\n",
      "Loading page 95 ...\n",
      "Loading page 96 ...\n",
      "Loading page 97 ...\n",
      "Loading page 98 ...\n",
      "Loading page 99 ...\n",
      "Loading page 100 ...\n",
      "Loading page 101 ...\n",
      "Loading page 102 ...\n",
      "Loading page 103 ...\n",
      "Loading page 104 ...\n",
      "Loading page 105 ...\n",
      "Loading page 106 ...\n",
      "Loading page 107 ...\n",
      "Loading page 108 ...\n",
      "Loading page 109 ...\n",
      "Loading page 110 ...\n",
      "Loading page 111 ...\n",
      "Loading page 112 ...\n",
      "Loading page 113 ...\n",
      "Loading page 114 ...\n",
      "Loading page 115 ...\n",
      "Loading page 116 ...\n",
      "Loading page 117 ...\n",
      "Loading page 118 ...\n",
      "Loading page 119 ...\n",
      "Loading page 120 ...\n",
      "Loading page 121 ...\n",
      "Loading page 122 ...\n",
      "Loading page 123 ...\n",
      "Loading page 124 ...\n",
      "Loading page 125 ...\n",
      "Loading page 126 ...\n",
      "Loading page 127 ...\n",
      "Loading page 128 ...\n",
      "Loading page 129 ...\n",
      "Loading page 130 ...\n",
      "Loading page 131 ...\n",
      "Loading page 132 ...\n",
      "Loading page 133 ...\n",
      "Loading page 134 ...\n",
      "Loading page 135 ...\n",
      "Loading page 136 ...\n",
      "Loading page 137 ...\n",
      "Loading page 138 ...\n",
      "Loading page 139 ...\n",
      "Loading page 140 ...\n",
      "Loading page 141 ...\n",
      "Loading page 142 ...\n",
      "Loading page 143 ...\n",
      "Loading page 144 ...\n",
      "Found 14364 results\n"
     ]
    }
   ],
   "source": [
 
    "all_tradeable_stocks = get_tradeable_stocks()"

    "#shutdown worked to clear cache \n",
    "#I think the solution is a try get_header\n",
    "#except we need to shutdown the kernal and rerun all the cells\n",
    "get_header = rh_auth(username='', password='')"
 
   ]
  },
  {
   "cell_type": "code",
   "execution_count": 44,
   "metadata": {
    "ExecuteTime": {
     "end_time": "2020-06-15T19:54:45.553719Z",
     "start_time": "2020-06-15T19:54:45.544934Z"
    },
    "code_folding": []
   },
   "outputs": [],
   "source": [
    "current_time = datetime.now()\n",
    "current_time_form = (current_time.hour * 100) + current_time.minute\n",
    "while current_time_form >= 600 and current_time_form <= 1230:\n",
    "    #push purchase list to cloud\n",
    "    print(current_time.hour, current_time.minute)\n",
    "    \n",
    "    #should try push_stock_purchase_list_to_cloud\n",
    "    #expect shutdown and rerun all the cells\n",
    "    #likely due to a logging in/authentication issue\n",
    "    push_stock_purchase_list_to_cloud(all_tradeable_stocks)\n",
    "    purchase_list = get_purchase_list_from_cloud()\n",
    "    if len(purchase_list) > 0:\n",
    "        buy_stock(purchase_list)\n",
    "\n",
    "    current_time = datetime.now()\n",
    "    print(current_time.hour, current_time.minute)\n",
    "    current_time_form = (current_time.hour * 100) + current_time.minute"
   ]
  }
 ],
 "metadata": {
  "kernelspec": {
   "display_name": "Python 3",
   "language": "python",
   "name": "python3"
  },
  "language_info": {
   "codemirror_mode": {
    "name": "ipython",
    "version": 3
   },
   "file_extension": ".py",
   "mimetype": "text/x-python",
   "name": "python",
   "nbconvert_exporter": "python",
   "pygments_lexer": "ipython3",
   "version": "3.6.5"
  },
  "varInspector": {
   "cols": {
    "lenName": 16,
    "lenType": 16,
    "lenVar": 40
   },
   "kernels_config": {
    "python": {
     "delete_cmd_postfix": "",
     "delete_cmd_prefix": "del ",
     "library": "var_list.py",
     "varRefreshCmd": "print(var_dic_list())"
    },
    "r": {
     "delete_cmd_postfix": ") ",
     "delete_cmd_prefix": "rm(",
     "library": "var_list.r",
     "varRefreshCmd": "cat(var_dic_list()) "
    }
   },
   "types_to_exclude": [
    "module",
    "function",
    "builtin_function_or_method",
    "instance",
    "_Feature"
   ],
   "window_display": false
  }
 },
 "nbformat": 4,
 "nbformat_minor": 4
}

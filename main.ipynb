{
 "cells": [
  {
   "cell_type": "code",
   "execution_count": 9,
   "metadata": {
    "ExecuteTime": {
     "end_time": "2020-06-10T02:10:01.784589Z",
     "start_time": "2020-06-10T02:09:55.224371Z"
    },
    "code_folding": []
   },
   "outputs": [
    {
     "name": "stdout",
     "output_type": "stream",
     "text": [
      "Requirement already satisfied: tqdm in /Users/asharifi/anaconda3/lib/python3.6/site-packages (4.41.1)\n",
      "\u001b[33mWARNING: You are using pip version 20.0.2; however, version 20.1.1 is available.\n",
      "You should consider upgrading via the '/Users/asharifi/anaconda3/bin/python -m pip install --upgrade pip' command.\u001b[0m\n"
     ]
    }
   ],
   "source": [
    "#install packages\n",
    "#!pip install --user tqdm"
   ]
  },
  {
   "cell_type": "code",
   "execution_count": 1,
   "metadata": {
    "ExecuteTime": {
     "end_time": "2020-06-15T15:10:33.021988Z",
     "start_time": "2020-06-15T15:10:12.737124Z"
    },
    "scrolled": true
   },
   "outputs": [],
   "source": [
    "import kfp\n",
    "import kfp.components as comp\n",
    "import kfp.compiler as pipe_comp\n",
    "import robin_stocks as rs\n",
    "import pandas as pd\n",
    "import requests\n",
    "import numpy as np\n",
    "import nbimporter\n",
    "from typing import NamedTuple\n",
    "from collections import namedtuple\n",
    "from google.cloud import storage\n",
    "from datetime import timedelta, datetime\n",
    "import time\n",
    "import csv\n",
    "import dash\n",
    "from tqdm import tqdm"
   ]
  },
  {
   "cell_type": "code",
   "execution_count": 2,
   "metadata": {
    "ExecuteTime": {
     "end_time": "2020-06-15T15:10:34.477422Z",
     "start_time": "2020-06-15T15:10:33.607354Z"
    }
   },
   "outputs": [],
   "source": [
    "import dash_core_components as dcc\n",
    "import dash_html_components as html\n",
    "from dash.dependencies import Input, Output\n",
    "import plotly.graph_objects as go\n",
    "import numpy as np"
   ]
  },
  {
   "cell_type": "code",
   "execution_count": null,
   "metadata": {
    "ExecuteTime": {
     "end_time": "2020-06-15T18:17:04.270421Z",
     "start_time": "2020-06-15T18:16:57.115Z"
    }
   },
   "outputs": [],
   "source": [
    "#include functions from notebooks\n",
    "%run auth.ipynb\n",
    "%run recent_stock_news.ipynb\n",
    "%run check_volume.ipynb\n",
    "%run get_trending_stocks.ipynb\n",
    "%run purchase_stock.ipynb\n",
    "%run tradeable_stocks.ipynb"
   ]
  },
  {
   "cell_type": "code",
   "execution_count": null,
   "metadata": {
    "ExecuteTime": {
     "end_time": "2020-06-15T18:17:04.273746Z",
     "start_time": "2020-06-15T18:16:57.340Z"
    },
    "code_folding": []
   },
   "outputs": [],
   "source": [
    "#making notebook functions available\n",
    "import auth\n",
    "import recent_stock_news\n",
    "import check_volume\n",
    "import get_trending_stocks\n",
    "import purchase_stock\n",
    "import tradeable_stocks"
   ]
  },
  {
   "cell_type": "code",
   "execution_count": 5,
   "metadata": {
    "ExecuteTime": {
     "end_time": "2020-06-15T15:10:36.545917Z",
     "start_time": "2020-06-15T15:10:36.541824Z"
    }
   },
   "outputs": [],
   "source": [
    "def push_to_cloud(my_trending_stocks):\n",
    "    file_name = \"purchase_list_V\"\n",
    "    a=my_trending_stocks\n",
    "    with open(file_name + \".csv\", \"w\", newline=\"\") as f:\n",
    "        writer = csv.writer(f)\n",
    "        writer.writerows(a)\n",
    "    storage_client = storage.Client(project=\"bright-voltage-248522\")\n",
    "    bucket = storage_client.get_bucket('arys_bucket1')\n",
    "    blob = bucket.blob(\"stock_purchase_list\")\n",
    "    blob.upload_from_filename(file_name+\".csv\")"
   ]
  },
  {
   "cell_type": "code",
   "execution_count": 6,
   "metadata": {
    "ExecuteTime": {
     "end_time": "2020-06-15T15:10:37.132185Z",
     "start_time": "2020-06-15T15:10:37.127293Z"
    }
   },
   "outputs": [],
   "source": [
    "def get_purchase_list_from_cloud():\n",
    "    storage_client = storage.Client(project=\"bright-voltage-248522\")\n",
    "    bucket = storage_client.get_bucket('arys_bucket1')\n",
    "    blob = bucket.blob(\"stock_purchase_list\")\n",
    "    data = blob.download_to_filename('stock_purchase_list_d.csv')\n",
    "    data_csv = pd.read_csv('stock_purchase_list_d.csv', parse_dates=True, names=['symbol', 'news_title', 'trendrate'])\n",
    "    #sort by trendrate before returning\n",
    "    data_csv = data_csv.sort_values(by=\"trendrate\", ascending=False)\n",
    "    \n",
    "    return data_csv"
   ]
  },
  {
   "cell_type": "code",
   "execution_count": 7,
   "metadata": {
    "ExecuteTime": {
     "end_time": "2020-06-15T15:10:37.551382Z",
     "start_time": "2020-06-15T15:10:37.545947Z"
    }
   },
   "outputs": [],
   "source": [
    "#runs all the filters to get purchase list\n",
    "def push_stock_purchase_list_to_cloud():\n",
    "    all_tradeable_stocks = get_tradeable_stocks()\n",
    "    print(\"got all tradeable stocks\")\n",
    "    recent_stock_news1 = filter_recent_news(all_tradeable_stocks)\n",
    "    print(\"filterd for recent news\")\n",
    "    low_vol_stocks = remove_high_vol_stocks(recent_stock_news1)\n",
    "    print(\"filterd for volume\")\n",
    "    my_trending_stocks = filter_trending_stock(low_vol_stocks)\n",
    "    print(my_trending_stocks)\n",
    "    push_to_cloud(my_trending_stocks)\n",
    "    print(\"pushed to cloud\")"
   ]
  },
  {
   "cell_type": "code",
   "execution_count": 8,
   "metadata": {
    "ExecuteTime": {
     "end_time": "2020-06-15T15:10:38.056057Z",
     "start_time": "2020-06-15T15:10:38.050650Z"
    }
   },
   "outputs": [],
   "source": [
    "def get_day_trade_stock_list():\n",
    "    stocks_owned = rs.account.get_current_positions()\n",
    "    day_trade_list = []\n",
    "    for stock in stocks_owned:\n",
    "        stock_url = stock['instrument']\n",
    "        stock_shares_for_sell = stock['shares_held_for_sells']\n",
    "        stock_ticker = rs.account.stocks.get_instrument_by_url(url = stock_url)\n",
    "        if stock_shares_for_sell>1:\n",
    "            day_trade_list.append(stock_ticker['symbol'])\n",
    "#could use this to check if a stock has shares held for sells\n",
    "#get the stock url\n",
    "    print(day_trade_list)\n",
    "#use the stock url to get the stock symbol/name\n",
    "#rs.account.stocks.get_instrument_by_url(url='https://api.robinhood.com/instruments/ee17a597-5d34-42be-b264-f5c50b12dffc/')"
   ]
  },
  {
   "cell_type": "code",
   "execution_count": 9,
   "metadata": {
    "ExecuteTime": {
     "end_time": "2020-06-15T15:10:39.621539Z",
     "start_time": "2020-06-15T15:10:39.108314Z"
    }
   },
   "outputs": [],
   "source": [
    "#shutdown worked to clear cache \n",
    "#I think the solution is a try get_header\n",
    "#except we need to shutdown the kernal and rerun all the cells\n",
    "get_header = rh_auth(username='', password='')"
   ]
  },
  {
   "cell_type": "code",
   "execution_count": 44,
   "metadata": {
    "ExecuteTime": {
     "end_time": "2020-06-15T19:54:45.553719Z",
     "start_time": "2020-06-15T19:54:45.544934Z"
    },
    "code_folding": []
   },
   "outputs": [],
   "source": [
    "current_time = datetime.now()\n",
    "current_time_form = (current_time.hour * 100) + current_time.minute\n",
    "while current_time_form >= 600 and current_time_form <= 1230:\n",
    "    #push purchase list to cloud\n",
    "    print(current_time.hour, current_time.minute)\n",
    "    \n",
    "    #should try push_stock_purchase_list_to_cloud\n",
    "    #expect shutdown and rerun all the cells\n",
    "    #likely due to a logging in/authentication issue\n",
    "    push_stock_purchase_list_to_cloud()\n",
    "    purchase_list = get_purchase_list_from_cloud()\n",
    "    if len(purchase_list) > 0:\n",
    "        buy_stock(purchase_list)\n",
    "\n",
    "    current_time = datetime.now()\n",
    "    print(current_time.hour, current_time.minute)\n",
    "    current_time_form = (current_time.hour * 100) + current_time.minute"
   ]
  }
 ],
 "metadata": {
  "kernelspec": {
   "display_name": "Python 3",
   "language": "python",
   "name": "python3"
  },
  "language_info": {
   "codemirror_mode": {
    "name": "ipython",
    "version": 3
   },
   "file_extension": ".py",
   "mimetype": "text/x-python",
   "name": "python",
   "nbconvert_exporter": "python",
   "pygments_lexer": "ipython3",
   "version": "3.6.5"
  },
  "varInspector": {
   "cols": {
    "lenName": 16,
    "lenType": 16,
    "lenVar": 40
   },
   "kernels_config": {
    "python": {
     "delete_cmd_postfix": "",
     "delete_cmd_prefix": "del ",
     "library": "var_list.py",
     "varRefreshCmd": "print(var_dic_list())"
    },
    "r": {
     "delete_cmd_postfix": ") ",
     "delete_cmd_prefix": "rm(",
     "library": "var_list.r",
     "varRefreshCmd": "cat(var_dic_list()) "
    }
   },
   "types_to_exclude": [
    "module",
    "function",
    "builtin_function_or_method",
    "instance",
    "_Feature"
   ],
   "window_display": false
  }
 },
 "nbformat": 4,
 "nbformat_minor": 4
}

{
 "cells": [
  {
   "cell_type": "code",
   "execution_count": 1,
   "metadata": {
    "ExecuteTime": {
     "end_time": "2020-06-26T18:48:24.997286Z",
     "start_time": "2020-06-26T18:48:24.994024Z"
    }
   },
   "outputs": [],
   "source": [
    "def market_is_open():\n",
    "    #get current time\n",
    "    current_time = datetime.now()\n",
    "    #format currrent time\n",
    "    current_time_form = (current_time.hour * 100) + current_time.minute\n",
    "    if current_time_form >= 600 and current_time_form <= 1230:\n",
    "        return True\n",
    "    else:\n",
    "        return False"
   ]
  },
  {
   "cell_type": "code",
   "execution_count": 2,
   "metadata": {
    "ExecuteTime": {
     "end_time": "2020-06-26T18:48:33.425771Z",
     "start_time": "2020-06-26T18:48:33.421664Z"
    }
   },
   "outputs": [],
   "source": [
    "def trade():\n",
    "    #get current time\n",
    "    current_time = datetime.now()\n",
    "    #Inform user that process is beginning again\n",
    "    print(\"Algorithm starting at \", current_time.hour, current_time.minute)\n",
    "    \n",
    "    #apply filters to tradeable stocks\n",
    "    filter_tradeable_stocks(all_tradeable_stocks)\n",
    "    \n",
    "    #get purchase list \n",
    "    purchase_list = get_sorted_purchase_list()\n",
    "    \n",
    "    #if there is more than 0 stocks in purchase list\n",
    "    if len(purchase_list) > 0:\n",
    "        #send purchase list to buy stock which tries to purchase stocks\n",
    "        buy_stock(purchase_list)\n",
    "    \n",
    "    #cancel sell limit orders for orders older than 1 hour and sell the share\n",
    "    remove_stale_sell_orders()"
   ]
  },
  {
   "cell_type": "code",
   "execution_count": null,
   "metadata": {},
   "outputs": [],
   "source": []
  }
 ],
 "metadata": {
  "kernelspec": {
   "display_name": "Python 3",
   "language": "python",
   "name": "python3"
  },
  "language_info": {
   "codemirror_mode": {
    "name": "ipython",
    "version": 3
   },
   "file_extension": ".py",
   "mimetype": "text/x-python",
   "name": "python",
   "nbconvert_exporter": "python",
   "pygments_lexer": "ipython3",
   "version": "3.6.5"
  },
  "varInspector": {
   "cols": {
    "lenName": 16,
    "lenType": 16,
    "lenVar": 40
   },
   "kernels_config": {
    "python": {
     "delete_cmd_postfix": "",
     "delete_cmd_prefix": "del ",
     "library": "var_list.py",
     "varRefreshCmd": "print(var_dic_list())"
    },
    "r": {
     "delete_cmd_postfix": ") ",
     "delete_cmd_prefix": "rm(",
     "library": "var_list.r",
     "varRefreshCmd": "cat(var_dic_list()) "
    }
   },
   "types_to_exclude": [
    "module",
    "function",
    "builtin_function_or_method",
    "instance",
    "_Feature"
   ],
   "window_display": false
  }
 },
 "nbformat": 4,
 "nbformat_minor": 2
}

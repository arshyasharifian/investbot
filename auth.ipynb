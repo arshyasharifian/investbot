{
 "cells": [
  {
   "cell_type": "code",
   "execution_count": 2,
   "metadata": {
    "ExecuteTime": {
     "end_time": "2020-06-23T00:54:59.885819Z",
     "start_time": "2020-06-23T00:54:59.882916Z"
    }
   },
   "outputs": [],
   "source": [
    "#authenticates the user and returns a bearer token in case needed for direct API request\n",
    "def rh_auth(username: str, password: str):\n",
    "    #authorize Robinhood user based on username and password\n",
    "    auth_info = rs.authentication.login(username = username, password= password)\n",
    "    #get the token value\n",
    "    token_val = auth_info['access_token']\n",
    "    #header for Robinhood API requests if needed\n",
    "    headers = {\"Authorization\": \"Bearer \" + token_val}\n",
    "    #needed for direct Robinhood API requests\n",
    "    return headers"
   ]
  }
 ],
 "metadata": {
  "kernelspec": {
   "display_name": "Python 3",
   "language": "python",
   "name": "python3"
  },
  "language_info": {
   "codemirror_mode": {
    "name": "ipython",
    "version": 3
   },
   "file_extension": ".py",
   "mimetype": "text/x-python",
   "name": "python",
   "nbconvert_exporter": "python",
   "pygments_lexer": "ipython3",
   "version": "3.6.5"
  },
  "varInspector": {
   "cols": {
    "lenName": 16,
    "lenType": 16,
    "lenVar": 40
   },
   "kernels_config": {
    "python": {
     "delete_cmd_postfix": "",
     "delete_cmd_prefix": "del ",
     "library": "var_list.py",
     "varRefreshCmd": "print(var_dic_list())"
    },
    "r": {
     "delete_cmd_postfix": ") ",
     "delete_cmd_prefix": "rm(",
     "library": "var_list.r",
     "varRefreshCmd": "cat(var_dic_list()) "
    }
   },
   "types_to_exclude": [
    "module",
    "function",
    "builtin_function_or_method",
    "instance",
    "_Feature"
   ],
   "window_display": false
  }
 },
 "nbformat": 4,
 "nbformat_minor": 2
}

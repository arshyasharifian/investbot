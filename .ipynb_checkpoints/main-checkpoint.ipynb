{
 "cells": [
  {
   "cell_type": "code",
   "execution_count": null,
   "metadata": {
    "ExecuteTime": {
     "end_time": "2020-06-24T17:07:19.541469Z",
     "start_time": "2020-06-24T17:07:19.538289Z"
    },
    "scrolled": true
   },
   "outputs": [],
   "source": [
    "import robin_stocks as rs #the robinhood api wrapper\n",
    "import pandas as pd #for creating CSV files\n",
    "from datetime import timedelta, datetime #for getting current time and converting recent news timestamps\n",
    "import time #for sleep timer\n",
    "import csv #for creating CSV file of stock purchase list"
   ]
  },
  {
   "cell_type": "code",
   "execution_count": null,
   "metadata": {
    "ExecuteTime": {
     "end_time": "2020-06-24T17:07:20.182424Z",
     "start_time": "2020-06-24T17:07:20.100436Z"
    }
   },
   "outputs": [],
   "source": [
    "#include functions from notebooks\n",
    "%run auth.ipynb\n",
    "%run recent_stock_news.ipynb\n",
    "%run check_volume.ipynb\n",
    "%run get_trending_stocks.ipynb\n",
    "%run purchase_stock.ipynb\n",
    "%run tradeable_stocks.ipynb\n",
    "%run cloud_CSV_storage.ipynb"
   ]
  },
  {
   "cell_type": "code",
   "execution_count": null,
   "metadata": {
    "ExecuteTime": {
     "end_time": "2020-06-24T17:07:52.198411Z",
     "start_time": "2020-06-24T17:07:51.680959Z"
    }
   },
   "outputs": [],
   "source": [
    "#authenticate robinhood account\n",
    "get_header = rh_auth(username='', password='')"
   ]
  },
  {
   "cell_type": "code",
   "execution_count": null,
   "metadata": {
    "ExecuteTime": {
     "end_time": "2020-06-24T17:09:08.367140Z",
     "start_time": "2020-06-24T17:09:08.361723Z"
    }
   },
   "outputs": [],
   "source": [
    "def market_is_open():\n",
    "    #get current time\n",
    "    current_time = datetime.now()\n",
    "    #format currrent time\n",
    "    current_time_form = (current_time.hour * 100) + current_time.minute\n",
    "    if current_time_form >= 600 and current_time_form <= 1230:\n",
    "        return True\n",
    "    else:\n",
    "        return False"
   ]
  },
  {
   "cell_type": "code",
   "execution_count": null,
   "metadata": {
    "ExecuteTime": {
     "end_time": "2020-06-24T17:09:09.250949Z",
     "start_time": "2020-06-24T17:09:09.247272Z"
    },
    "code_folding": []
   },
   "outputs": [],
   "source": [
    "def trade():\n",
    "    #get current time\n",
    "    current_time = datetime.now()\n",
    "    #Inform user that process is beginning again\n",
    "    print(\"Algorithm starting at \", current_time.hour, current_time.minute)\n",
    "    \n",
    "    #apply filters to tradeable stocks\n",
    "    #push_stock_purchase_list_to_cloud(all_tradeable_stocks)\n",
    "    filter_tradeable_stocks(all_tradeable_stocks)\n",
    "    \n",
    "    #get purchase list \n",
    "    #purchase_list = get_purchase_list_from_cloud()\n",
    "    purchase_list = get_sorted_purchase_list()\n",
    "    \n",
    "    #if there is more than 0 stocks in purchase list\n",
    "    if len(purchase_list) > 0:\n",
    "        #send purchase list to buy stock which tries to purchase stocks\n",
    "        buy_stock(purchase_list)"
   ]
  },
  {
   "cell_type": "code",
   "execution_count": null,
   "metadata": {
    "ExecuteTime": {
     "end_time": "2020-06-24T17:09:05.065565Z",
     "start_time": "2020-06-24T17:07:57.070416Z"
    }
   },
   "outputs": [],
   "source": [
    "all_tradeable_stocks = get_tradeable_stocks()"
   ]
  },
  {
   "cell_type": "code",
   "execution_count": null,
   "metadata": {
    "ExecuteTime": {
     "end_time": "2020-06-24T17:50:02.510027Z",
     "start_time": "2020-06-24T17:09:17.719160Z"
    }
   },
   "outputs": [],
   "source": [
    "while True:\n",
    "    if market_is_open():\n",
    "        trade()"
   ]
  }
 ],
 "metadata": {
  "kernelspec": {
   "display_name": "Python 3",
   "language": "python",
   "name": "python3"
  },
  "language_info": {
   "codemirror_mode": {
    "name": "ipython",
    "version": 3
   },
   "file_extension": ".py",
   "mimetype": "text/x-python",
   "name": "python",
   "nbconvert_exporter": "python",
   "pygments_lexer": "ipython3",
   "version": "3.6.5"
  },
  "varInspector": {
   "cols": {
    "lenName": 16,
    "lenType": 16,
    "lenVar": 40
   },
   "kernels_config": {
    "python": {
     "delete_cmd_postfix": "",
     "delete_cmd_prefix": "del ",
     "library": "var_list.py",
     "varRefreshCmd": "print(var_dic_list())"
    },
    "r": {
     "delete_cmd_postfix": ") ",
     "delete_cmd_prefix": "rm(",
     "library": "var_list.r",
     "varRefreshCmd": "cat(var_dic_list()) "
    }
   },
   "types_to_exclude": [
    "module",
    "function",
    "builtin_function_or_method",
    "instance",
    "_Feature"
   ],
   "window_display": false
  }
 },
 "nbformat": 4,
 "nbformat_minor": 4
}

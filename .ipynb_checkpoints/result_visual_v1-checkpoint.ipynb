{
 "cells": [
  {
   "cell_type": "code",
   "execution_count": 30,
   "metadata": {
    "ExecuteTime": {
     "end_time": "2020-06-10T19:41:57.159173Z",
     "start_time": "2020-06-10T19:41:57.151196Z"
    }
   },
   "outputs": [],
   "source": [
    "import robin_stocks as rs\n",
    "import pandas as pd\n",
    "import datetime\n",
    "import time\n",
    "import plotly.graph_objects as go\n",
    "import requests\n",
    "import json"
   ]
  },
  {
   "cell_type": "code",
   "execution_count": 2,
   "metadata": {
    "ExecuteTime": {
     "end_time": "2020-06-09T20:58:17.541470Z",
     "start_time": "2020-06-09T20:58:17.506563Z"
    }
   },
   "outputs": [],
   "source": [
    "with open('robinhood_config.txt','r') as f:\n",
    "    file = f.read().split('\\n')\n",
    "\n",
    "f.close()\n",
    "username = file[0]\n",
    "password = file[1]\n",
    "valid_code = file[2]\n",
    "\n",
    "username = username.split(' ')[1]\n",
    "password = password.split(' ')[1]\n",
    "valid_code = valid_code.split(' ')[1]"
   ]
  },
  {
   "cell_type": "code",
   "execution_count": 3,
   "metadata": {
    "ExecuteTime": {
     "end_time": "2020-06-09T20:58:18.756036Z",
     "start_time": "2020-06-09T20:58:18.360749Z"
    }
   },
   "outputs": [],
   "source": [
    "login = rs.login(username,password)"
   ]
  },
  {
   "cell_type": "code",
   "execution_count": 35,
   "metadata": {
    "ExecuteTime": {
     "end_time": "2020-06-10T21:17:15.430059Z",
     "start_time": "2020-06-10T21:17:14.993262Z"
    }
   },
   "outputs": [
    {
     "name": "stdout",
     "output_type": "stream",
     "text": [
      "410 Client Error: Gone for url: https://api.robinhood.com/accounts/727870891/recent_day_trades/\n"
     ]
    },
    {
     "data": {
      "text/plain": [
       "[]"
      ]
     },
     "execution_count": 35,
     "metadata": {},
     "output_type": "execute_result"
    }
   ],
   "source": [
    "# Returns a list of all the orders that have been processed for the account.\n",
    "rs.account.get_day_trades()"
   ]
  },
  {
   "cell_type": "code",
   "execution_count": 9,
   "metadata": {
    "ExecuteTime": {
     "end_time": "2020-06-10T18:21:28.820037Z",
     "start_time": "2020-06-10T18:21:28.798094Z"
    }
   },
   "outputs": [],
   "source": [
    "output_sample = {'id': 'b6f468cb-3ddb-42b3-a0a6-2e0df260f09d',\n",
    "                 'ref_id': '70678789-C355-4A40-A0CB-E810A7B7C89C',\n",
    "                 'url': 'https://api.robinhood.com/orders/b6f468cb-3ddb-42b3-a0a6-2e0df260f09d/',\n",
    "                 'account': 'https://api.robinhood.com/accounts/5QV61626/',\n",
    "                 'position': 'https://api.robinhood.com/positions/5QV61626/5a3cdebf-6b1b-41aa-8610-b3e22322c690/',\n",
    "                 'cancel': None,\n",
    "                 'instrument': 'https://api.robinhood.com/instruments/5a3cdebf-6b1b-41aa-8610-b3e22322c690/',\n",
    "                 'cumulative_quantity': '0.02071000',\n",
    "                 'average_price': '48.28590000',\n",
    "                 'fees': '0.00',\n",
    "                 'state': 'filled',\n",
    "                 'type': 'market',\n",
    "                 'side': 'buy',\n",
    "                 'time_in_force': 'gfd',\n",
    "                 'trigger': 'immediate',\n",
    "                 'price': '50.82000000',\n",
    "                 'stop_price': None,\n",
    "                 'quantity': '0.02071000',\n",
    "                 'reject_reason': None,\n",
    "                 'created_at': '2020-06-09T18:47:44.883050Z',\n",
    "                 'updated_at': '2020-06-09T18:47:46.194303Z',\n",
    "                 'last_transaction_at': '2020-06-09T18:47:45.046632Z',\n",
    "                 'executions': [{'price': '48.36000000',\n",
    "                                 'quantity': '0.01967700',\n",
    "                                 'settlement_date': '2020-06-11',\n",
    "                                 'timestamp': '2020-06-09T18:47:45.046857Z',\n",
    "                                 'id': '81f552af-1f36-490d-ab1a-1031f250eb6e'},\n",
    "                                {'price': '48.36000000',\n",
    "                                 'quantity': '0.00103300',\n",
    "                                 'settlement_date': '2020-06-11',\n",
    "                                 'timestamp': '2020-06-09T18:47:45.046857Z',\n",
    "                                 'id': '0adc41c1-1e42-438d-bf78-5f9943031743'}],\n",
    "                 'extended_hours': False,\n",
    "                 'override_dtbp_checks': False,\n",
    "                 'override_day_trade_checks': False,\n",
    "                 'response_category': None,\n",
    "                 'stop_triggered_at': None,\n",
    "                 'last_trail_price': None,\n",
    "                 'last_trail_price_updated_at': None,\n",
    "                 'dollar_based_amount': {'amount': '1.00000000',\n",
    "                                         'currency_code': 'USD',\n",
    "                                         'currency_id': '1072fc76-1862-41ab-82c2-485837590762'},\n",
    "                 'total_notional': {'amount': '1.00',\n",
    "                                    'currency_code': 'USD',\n",
    "                                    'currency_id': '1072fc76-1862-41ab-82c2-485837590762'},\n",
    "                 'executed_notional': {'amount': '1.00',\n",
    "                                       'currency_code': 'USD',\n",
    "                                       'currency_id': '1072fc76-1862-41ab-82c2-485837590762'},\n",
    "                 'investment_schedule_id': None}"
   ]
  },
  {
   "cell_type": "code",
   "execution_count": 37,
   "metadata": {
    "ExecuteTime": {
     "end_time": "2020-06-10T21:55:43.636512Z",
     "start_time": "2020-06-10T21:55:43.568694Z"
    }
   },
   "outputs": [],
   "source": [
    "output_all_pos = [{'url': 'https://api.robinhood.com/positions/5QV61626/49335ec7-8b86-4021-b656-6e45c37da4ed/',\n",
    "                   'instrument': 'https://api.robinhood.com/instruments/49335ec7-8b86-4021-b656-6e45c37da4ed/',\n",
    "                   'account': 'https://api.robinhood.com/accounts/5QV61626/',\n",
    "                   'account_number': '5QV61626',\n",
    "                   'average_buy_price': '42.8457',\n",
    "                   'pending_average_buy_price': '42.8457',\n",
    "                   'quantity': '7.00000000',\n",
    "                   'intraday_average_buy_price': '0.0000',\n",
    "                   'intraday_quantity': '0.00000000',\n",
    "                   'shares_held_for_buys': '0.00000000',\n",
    "                   'shares_held_for_sells': '0.00000000',\n",
    "                   'shares_held_for_stock_grants': '0.00000000',\n",
    "                   'shares_held_for_options_collateral': '0.00000000',\n",
    "                   'shares_held_for_options_events': '0.00000000',\n",
    "                   'shares_pending_from_options_events': '0.00000000',\n",
    "                   'updated_at': '2019-11-04T18:30:06.079342Z',\n",
    "                   'created_at': '2019-11-04T18:30:04.051743Z'},\n",
    "                  {'url': 'https://api.robinhood.com/positions/5QV61626/b7da9d4f-4fff-42fb-8429-b53f99b1e3ae/',\n",
    "                   'instrument': 'https://api.robinhood.com/instruments/b7da9d4f-4fff-42fb-8429-b53f99b1e3ae/',\n",
    "                   'account': 'https://api.robinhood.com/accounts/5QV61626/',\n",
    "                   'account_number': '5QV61626',\n",
    "                   'average_buy_price': '125.8480',\n",
    "                   'pending_average_buy_price': '125.8480',\n",
    "                   'quantity': '5.00000000',\n",
    "                   'intraday_average_buy_price': '0.0000',\n",
    "                   'intraday_quantity': '0.00000000',\n",
    "                   'shares_held_for_buys': '0.00000000',\n",
    "                   'shares_held_for_sells': '0.00000000',\n",
    "                   'shares_held_for_stock_grants': '0.00000000',\n",
    "                   'shares_held_for_options_collateral': '0.00000000',\n",
    "                   'shares_held_for_options_events': '0.00000000',\n",
    "                   'shares_pending_from_options_events': '0.00000000',\n",
    "                   'updated_at': '2019-09-05T16:49:55.304960Z',\n",
    "                   'created_at': '2019-08-23T15:30:54.499491Z'}]"
   ]
  },
  {
   "cell_type": "code",
   "execution_count": 38,
   "metadata": {
    "ExecuteTime": {
     "end_time": "2020-06-10T21:55:51.408042Z",
     "start_time": "2020-06-10T21:55:51.398070Z"
    }
   },
   "outputs": [
    {
     "data": {
      "text/plain": [
       "{'url': 'https://api.robinhood.com/positions/5QV61626/49335ec7-8b86-4021-b656-6e45c37da4ed/',\n",
       " 'instrument': 'https://api.robinhood.com/instruments/49335ec7-8b86-4021-b656-6e45c37da4ed/',\n",
       " 'account': 'https://api.robinhood.com/accounts/5QV61626/',\n",
       " 'account_number': '5QV61626',\n",
       " 'average_buy_price': '42.8457',\n",
       " 'pending_average_buy_price': '42.8457',\n",
       " 'quantity': '7.00000000',\n",
       " 'intraday_average_buy_price': '0.0000',\n",
       " 'intraday_quantity': '0.00000000',\n",
       " 'shares_held_for_buys': '0.00000000',\n",
       " 'shares_held_for_sells': '0.00000000',\n",
       " 'shares_held_for_stock_grants': '0.00000000',\n",
       " 'shares_held_for_options_collateral': '0.00000000',\n",
       " 'shares_held_for_options_events': '0.00000000',\n",
       " 'shares_pending_from_options_events': '0.00000000',\n",
       " 'updated_at': '2019-11-04T18:30:06.079342Z',\n",
       " 'created_at': '2019-11-04T18:30:04.051743Z'}"
      ]
     },
     "execution_count": 38,
     "metadata": {},
     "output_type": "execute_result"
    }
   ],
   "source": []
  },
  {
   "cell_type": "code",
   "execution_count": 33,
   "metadata": {
    "ExecuteTime": {
     "end_time": "2020-06-10T20:00:20.809149Z",
     "start_time": "2020-06-10T20:00:20.646582Z"
    }
   },
   "outputs": [
    {
     "data": {
      "text/plain": [
       "'ESPO'"
      ]
     },
     "execution_count": 33,
     "metadata": {},
     "output_type": "execute_result"
    }
   ],
   "source": [
    "instrument_api = 'https://api.robinhood.com/instruments/5a3cdebf-6b1b-41aa-8610-b3e22322c690/'\n",
    "response = requests.get(instrument_api)\n",
    "symbol = json.loads(response.content)['symbol']"
   ]
  },
  {
   "cell_type": "code",
   "execution_count": 14,
   "metadata": {
    "ExecuteTime": {
     "end_time": "2020-06-10T19:17:34.479343Z",
     "start_time": "2020-06-10T19:17:34.467376Z"
    }
   },
   "outputs": [],
   "source": [
    "buy_price = 0\n",
    "for i in range(len(output_sample['executions'])):\n",
    "    buy_price += float(output_sample['executions'][i]['price'])*float(output_sample['executions'][i]['quantity'])"
   ]
  },
  {
   "cell_type": "code",
   "execution_count": 13,
   "metadata": {
    "ExecuteTime": {
     "end_time": "2020-06-10T19:12:58.715945Z",
     "start_time": "2020-06-10T19:12:58.695002Z"
    }
   },
   "outputs": [
    {
     "data": {
      "text/plain": [
       "'48.36000000'"
      ]
     },
     "execution_count": 13,
     "metadata": {},
     "output_type": "execute_result"
    }
   ],
   "source": [
    "    for order in all_stocks_orders:\n",
    "        if order['side'] == 'buy':\n",
    "            for i in range(len(order['executions'])):\n",
    "                buy_price += float(order['executions'][i]['price'])*float(order['executions'][i]['quantity'])"
   ]
  },
  {
   "cell_type": "code",
   "execution_count": 95,
   "metadata": {
    "ExecuteTime": {
     "end_time": "2020-05-28T13:21:59.143495Z",
     "start_time": "2020-05-28T13:21:59.137511Z"
    }
   },
   "outputs": [],
   "source": [
    "def get_latest_buyPower(stock_tickers):\n",
    "    \"\"\"\n",
    "    stock_tickers: a list of stock tickers that has sell limit order\n",
    "    \n",
    "    \"\"\"\n",
    "    stock_share =[]\n",
    "    current_value = 0\n",
    "    \n",
    "    stock_price_list = rs.stocks.get_latest_price(stock_tickers)\n",
    "    stock_position = rs.account.get_open_stock_positions(stock_tickers)\n",
    "    for i in range(len(stock_position)):\n",
    "        stock_share.append(float(stock_position[i]['quantity']))\n",
    "    \n",
    "    for i in range(len(stock_price_list)):\n",
    "        current_value += float(stock_price_list[i])*stock_share[i]\n",
    "    \n",
    "    principle += current_value\n",
    "    \n",
    "    return principle, datetime.datetime.now()"
   ]
  },
  {
   "cell_type": "code",
   "execution_count": 142,
   "metadata": {
    "ExecuteTime": {
     "end_time": "2020-05-28T19:58:20.845518Z",
     "start_time": "2020-05-28T19:58:20.835546Z"
    }
   },
   "outputs": [],
   "source": [
    "stocks_list = ['aapl','tsla','msft']\n",
    "p_list = []\n",
    "time_list = []\n",
    "\n",
    "min_time = datetime.datetime(datetime.datetime.today().year,\n",
    "                             datetime.datetime.today().month,\n",
    "                             datetime.datetime.today().day,\n",
    "                             0,0,0)\n",
    "max_time = datetime.datetime(datetime.datetime.today().year,\n",
    "                             datetime.datetime.today().month,\n",
    "                             datetime.datetime.today().day,\n",
    "                             23,59,0)"
   ]
  },
  {
   "cell_type": "code",
   "execution_count": 5,
   "metadata": {
    "ExecuteTime": {
     "end_time": "2020-06-09T20:59:26.327678Z",
     "start_time": "2020-06-09T20:59:25.980980Z"
    },
    "scrolled": true
   },
   "outputs": [
    {
     "ename": "TypeError",
     "evalue": "get_stock_order_info() missing 1 required positional argument: 'orderID'",
     "output_type": "error",
     "traceback": [
      "\u001b[1;31m---------------------------------------------------------------------------\u001b[0m",
      "\u001b[1;31mTypeError\u001b[0m                                 Traceback (most recent call last)",
      "\u001b[1;32m<ipython-input-5-5406dbec0ed0>\u001b[0m in \u001b[0;36m<module>\u001b[1;34m\u001b[0m\n\u001b[1;32m----> 1\u001b[1;33m \u001b[0mrs\u001b[0m\u001b[1;33m.\u001b[0m\u001b[0morders\u001b[0m\u001b[1;33m.\u001b[0m\u001b[0mget_stock_order_info\u001b[0m\u001b[1;33m(\u001b[0m\u001b[1;33m)\u001b[0m\u001b[1;33m\u001b[0m\u001b[1;33m\u001b[0m\u001b[0m\n\u001b[0m",
      "\u001b[1;32mC:\\Anaconda\\envs\\GJ\\lib\\site-packages\\robin_stocks\\helper.py\u001b[0m in \u001b[0;36mlogin_wrapper\u001b[1;34m(*args, **kwargs)\u001b[0m\n\u001b[0;32m     29\u001b[0m             raise Exception('{} can only be called when logged in'.format(\n\u001b[0;32m     30\u001b[0m                 func.__name__))\n\u001b[1;32m---> 31\u001b[1;33m         \u001b[1;32mreturn\u001b[0m\u001b[1;33m(\u001b[0m\u001b[0mfunc\u001b[0m\u001b[1;33m(\u001b[0m\u001b[1;33m*\u001b[0m\u001b[0margs\u001b[0m\u001b[1;33m,\u001b[0m \u001b[1;33m**\u001b[0m\u001b[0mkwargs\u001b[0m\u001b[1;33m)\u001b[0m\u001b[1;33m)\u001b[0m\u001b[1;33m\u001b[0m\u001b[1;33m\u001b[0m\u001b[0m\n\u001b[0m\u001b[0;32m     32\u001b[0m     \u001b[1;32mreturn\u001b[0m\u001b[1;33m(\u001b[0m\u001b[0mlogin_wrapper\u001b[0m\u001b[1;33m)\u001b[0m\u001b[1;33m\u001b[0m\u001b[1;33m\u001b[0m\u001b[0m\n\u001b[0;32m     33\u001b[0m \u001b[1;33m\u001b[0m\u001b[0m\n",
      "\u001b[1;31mTypeError\u001b[0m: get_stock_order_info() missing 1 required positional argument: 'orderID'"
     ]
    }
   ],
   "source": [
    "rs.orders.get_stock_order_info()"
   ]
  },
  {
   "cell_type": "code",
   "execution_count": 37,
   "metadata": {
    "ExecuteTime": {
     "end_time": "2020-05-28T10:43:29.975808Z",
     "start_time": "2020-05-28T10:43:29.823213Z"
    }
   },
   "outputs": [
    {
     "data": {
      "text/plain": [
       "{'instrument': 'https://api.robinhood.com/instruments/450dfc6d-5510-4d40-abfb-f633b7d9be3e/',\n",
       " 'num_open_positions': 381919}"
      ]
     },
     "execution_count": 37,
     "metadata": {},
     "output_type": "execute_result"
    }
   ],
   "source": [
    "# Returns the number of open positions.\n",
    "rs.stocks.get_popularity('aapl')"
   ]
  },
  {
   "cell_type": "code",
   "execution_count": 110,
   "metadata": {
    "ExecuteTime": {
     "end_time": "2020-05-28T19:07:30.077976Z",
     "start_time": "2020-05-28T19:07:29.620587Z"
    }
   },
   "outputs": [
    {
     "data": {
      "text/plain": [
       "{'instrument': 'https://api.robinhood.com/instruments/450dfc6d-5510-4d40-abfb-f633b7d9be3e/',\n",
       " 'num_open_positions': 384100}"
      ]
     },
     "execution_count": 110,
     "metadata": {},
     "output_type": "execute_result"
    }
   ],
   "source": [
    "rs.stocks.get_popularity('aapl')"
   ]
  },
  {
   "cell_type": "code",
   "execution_count": null,
   "metadata": {},
   "outputs": [],
   "source": []
  }
 ],
 "metadata": {
  "kernelspec": {
   "display_name": "Python 3",
   "language": "python",
   "name": "python3"
  },
  "language_info": {
   "codemirror_mode": {
    "name": "ipython",
    "version": 3
   },
   "file_extension": ".py",
   "mimetype": "text/x-python",
   "name": "python",
   "nbconvert_exporter": "python",
   "pygments_lexer": "ipython3",
   "version": "3.7.7"
  },
  "varInspector": {
   "cols": {
    "lenName": 16,
    "lenType": 16,
    "lenVar": 40
   },
   "kernels_config": {
    "python": {
     "delete_cmd_postfix": "",
     "delete_cmd_prefix": "del ",
     "library": "var_list.py",
     "varRefreshCmd": "print(var_dic_list())"
    },
    "r": {
     "delete_cmd_postfix": ") ",
     "delete_cmd_prefix": "rm(",
     "library": "var_list.r",
     "varRefreshCmd": "cat(var_dic_list()) "
    }
   },
   "oldHeight": 122.4,
   "position": {
    "height": "144px",
    "left": "1266px",
    "right": "20px",
    "top": "120px",
    "width": "250px"
   },
   "types_to_exclude": [
    "module",
    "function",
    "builtin_function_or_method",
    "instance",
    "_Feature"
   ],
   "varInspector_section_display": "block",
   "window_display": false
  }
 },
 "nbformat": 4,
 "nbformat_minor": 4
}

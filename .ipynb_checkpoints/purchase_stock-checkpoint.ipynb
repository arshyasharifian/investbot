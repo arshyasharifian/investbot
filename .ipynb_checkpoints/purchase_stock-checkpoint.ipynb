{
 "cells": [
  {
   "cell_type": "code",
   "execution_count": 29,
   "metadata": {
    "ExecuteTime": {
     "end_time": "2020-06-15T18:16:46.886130Z",
     "start_time": "2020-06-15T18:16:46.880817Z"
    }
   },
   "outputs": [],
   "source": [
    "def enough_money(symbol):\n",
    "    try:\n",
    "        latest_price = rs.stocks.get_latest_price(symbol)\n",
    "        latest_price = float(latest_price[0])\n",
    "        buy_power = float(rs.profiles.load_account_profile(info = 'portfolio_cash'))-25000 \n",
    "        #must subtract this value by 25K to prevent using required principle for trading\n",
    "        #buy_power = float(rs.profiles.load_account_profile(info = 'cash_available_for_withdrawal'))\n",
    "        #for testing\n",
    "        #buy_power = 20\n",
    "        if buy_power > latest_price:\n",
    "            print(buy_power, latest_price)\n",
    "            return True\n",
    "        else:\n",
    "            print(\"not enough money \", buy_power, latest_price)\n",
    "            return False\n",
    "    except:\n",
    "        print(\"something didn't work\")\n",
    "        return False"
   ]
  },
  {
   "cell_type": "code",
   "execution_count": 30,
   "metadata": {
    "ExecuteTime": {
     "end_time": "2020-06-15T18:16:47.079387Z",
     "start_time": "2020-06-15T18:16:47.073173Z"
    }
   },
   "outputs": [],
   "source": [
    "def place_order(symbol):\n",
    "    latest_price = rs.stocks.get_latest_price(symbol)\n",
    "    latest_price = float(latest_price[0])\n",
    "    #can adjust the purchase price here, change 2 to 1\n",
    "    purchase_price = latest_price\n",
    "    prev_buy_power = float(rs.profiles.load_account_profile(info = 'portfolio_cash'))-25000\n",
    "    acct_prev = rs.profiles.load_account_profile()\n",
    "    #print(acct_prev)\n",
    "    #places an order based on latest_price\n",
    "    order_dict = rs.orders.order_buy_limit(symbol=symbol, quantity=1, limitPrice=purchase_price, timeInForce = 'gtc')\n",
    "    order_id = order_dict['id']\n",
    "    result = order_dict['state']\n",
    "    acct_post = rs.profiles.load_account_profile()\n",
    "    #print(acct_post)\n",
    "    post_buy_power = float(rs.profiles.load_account_profile(info = 'portfolio_cash'))-25000\n",
    "    #print(prev_buy_power==post_buy_power)\n",
    "    #this confirms the order is filled but DOES NOT confirm the stock is PURCHASED\n",
    "    #I think there is something wrong with this condition. The money is spent/reserved but stock isn't purchased\n",
    "    set_sell_limit_order = False\n",
    "    while result != 'filled' and not set_sell_limit_order:\n",
    "        #print(prev_buy_power, post_buy_power)\n",
    "        #get_result = requests.get(endpoint, headers=headers).json()\n",
    "        get_result = rs.orders.get_stock_order_info(order_id)\n",
    "        result = get_result['state']\n",
    "        #post_buy_power = float(rs.profiles.load_account_profile(info = 'portfolio_cash'))\n",
    "        time.sleep(1)\n",
    "        set_sell_limit_order = set_sell_price(symbol, purchase_price=purchase_price)\n",
    "        \n",
    "        #BUG:\n",
    "        #if stock isn't purchased, we either need to time out which involves cancelling the order\n",
    "        #or we have to cancel current order and make a new order with current price\n",
    "        \n",
    "        print(\"in while loop waitin for purchase to be filled\")\n",
    "    #I need to confirm the purchase before setting the sell price\n",
    "    time.sleep(3)\n",
    "     \n",
    "    "
   ]
  },
  {
   "cell_type": "code",
   "execution_count": 31,
   "metadata": {
    "ExecuteTime": {
     "end_time": "2020-06-15T18:16:47.649712Z",
     "start_time": "2020-06-15T18:16:47.645604Z"
    }
   },
   "outputs": [],
   "source": [
    "def set_sell_price(symbol, purchase_price):\n",
    "    #aiming for .9% return for each trade\n",
    "    print(\"setting sell price\")\n",
    "    sell_price = purchase_price * 1.007\n",
    "    sell_order = rs.order_sell_limit(symbol=symbol, quantity=1, limitPrice=sell_price, timeInForce='gtc')\n",
    "    print(sell_order)\n",
    "    \n",
    "    try:\n",
    "        if sell_order['detail']:\n",
    "            return False\n",
    "    except:\n",
    "        return True\n",
    "        "
   ]
  },
  {
   "cell_type": "code",
   "execution_count": 32,
   "metadata": {
    "ExecuteTime": {
     "end_time": "2020-06-15T18:16:48.101053Z",
     "start_time": "2020-06-15T18:16:48.095136Z"
    }
   },
   "outputs": [],
   "source": [
    "def buy_stock(sorted_upward_trending_stocks):\n",
    "    #iterate through stocks\n",
    "    for index, row in sorted_upward_trending_stocks.iterrows():        \n",
    "        #ensures I have enough CASH to purchase stock\n",
    "        if enough_money(row[\"symbol\"]):\n",
    "            print(\"next stock for purchase: \", row[\"symbol\"])\n",
    "            buy_power = float(rs.profiles.load_account_profile(info = 'portfolio_cash'))-25000\n",
    "            latest_price = rs.stocks.get_latest_price(row[\"symbol\"])\n",
    "            latest_price = float(latest_price[0])\n",
    "            print(\"this is my buy_power:\", buy_power)\n",
    "            print(\"This is the price of the stock:\", latest_price)\n",
    "            #uncomment line below to pause before making purchase\n",
    "            #txt = input(\"enter something\")\n",
    "            \n",
    "            if place_order(row[\"symbol\"]):\n",
    "                print(\"purchased\", (row[\"symbol\"]))\n",
    "                #remove symbol from dataframe\n",
    "                return None\n",
    "        else:\n",
    "            print(\"nope\", row[\"symbol\"])"
   ]
  },
  {
   "cell_type": "code",
   "execution_count": 33,
   "metadata": {
    "ExecuteTime": {
     "end_time": "2020-06-15T18:16:48.639381Z",
     "start_time": "2020-06-15T18:16:48.634998Z"
    }
   },
   "outputs": [],
   "source": [
    "def get_algo_stock_list() -> list: \n",
    "    my_stock_list = []\n",
    "    all_positions = rs.account.get_all_positions()\n",
    "    for position in all_positions:\n",
    "        if float(position['shares_held_for_sells']) > 0:\n",
    "            instrument = position['instrument']\n",
    "            stock_ticker = rs.stocks.get_symbol_by_url(url=instrument)\n",
    "            my_stock_list.append(stock_ticker)\n",
    "            return my_stock_list"
   ]
  },
  {
   "cell_type": "code",
   "execution_count": null,
   "metadata": {},
   "outputs": [],
   "source": []
  }
 ],
 "metadata": {
  "kernelspec": {
   "display_name": "Python 3",
   "language": "python",
   "name": "python3"
  },
  "language_info": {
   "codemirror_mode": {
    "name": "ipython",
    "version": 3
   },
   "file_extension": ".py",
   "mimetype": "text/x-python",
   "name": "python",
   "nbconvert_exporter": "python",
   "pygments_lexer": "ipython3",
   "version": "3.7.7"
  },
  "varInspector": {
   "cols": {
    "lenName": 16,
    "lenType": 16,
    "lenVar": 40
   },
   "kernels_config": {
    "python": {
     "delete_cmd_postfix": "",
     "delete_cmd_prefix": "del ",
     "library": "var_list.py",
     "varRefreshCmd": "print(var_dic_list())"
    },
    "r": {
     "delete_cmd_postfix": ") ",
     "delete_cmd_prefix": "rm(",
     "library": "var_list.r",
     "varRefreshCmd": "cat(var_dic_list()) "
    }
   },
   "types_to_exclude": [
    "module",
    "function",
    "builtin_function_or_method",
    "instance",
    "_Feature"
   ],
   "window_display": false
  }
 },
 "nbformat": 4,
 "nbformat_minor": 2
}

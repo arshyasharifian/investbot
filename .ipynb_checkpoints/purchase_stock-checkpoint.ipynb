{
 "cells": [
  {
   "cell_type": "code",
   "execution_count": 2,
   "metadata": {
    "ExecuteTime": {
     "end_time": "2020-06-24T16:56:55.494407Z",
     "start_time": "2020-06-24T16:56:55.489919Z"
    }
   },
   "outputs": [],
   "source": [
    "#checks if user's Robinhood account has enough cash to purchase a stock\n",
    "def enough_money(symbol):\n",
    "    try:\n",
    "        #gets latest price of stock\n",
    "        latest_price = rs.stocks.get_latest_price(symbol)\n",
    "        #formats the price\n",
    "        latest_price = float(latest_price[0])\n",
    "        \n",
    "        #defining available cash as user's portfolio minus $25K due to day-trading requirement\n",
    "        buy_power = float(rs.profiles.load_account_profile(info = 'portfolio_cash'))-25000 \n",
    "        \n",
    "        #if available cash is greater than the stock price\n",
    "        if buy_power > latest_price:\n",
    "            print(buy_power, latest_price)\n",
    "            return True\n",
    "        else:\n",
    "            print(\"not enough money \", buy_power, latest_price)\n",
    "            return False\n",
    "    #in case there is a server error, the function will consider next stocks in list\n",
    "    except:\n",
    "        print(\"something didn't work\")\n",
    "        return False"
   ]
  },
  {
   "cell_type": "code",
   "execution_count": 3,
   "metadata": {
    "ExecuteTime": {
     "end_time": "2020-06-24T16:56:55.670467Z",
     "start_time": "2020-06-24T16:56:55.665981Z"
    }
   },
   "outputs": [],
   "source": [
    "#executes trade on Robinhood\n",
    "def place_order(symbol):\n",
    "    #re-checks price\n",
    "    latest_price = rs.stocks.get_latest_price(symbol)\n",
    "    #format the price\n",
    "    latest_price = float(latest_price[0])\n",
    "    \n",
    "    #places an order based on latest_price\n",
    "    order_dict = rs.orders.order_buy_limit(symbol=symbol, quantity=1, limitPrice=latest_price, timeInForce = 'gtc')\n",
    "    \n",
    "    #get the order ID or receipt of order\n",
    "    order_id = order_dict['id']\n",
    "    \n",
    "    #get the status of the order\n",
    "    result = order_dict['state']\n",
    "    \n",
    "    #checks if we can place a sell limit order which means the stock is successfully purchased\n",
    "    set_sell_limit_order = False\n",
    "    \n",
    "    #while the stock is not purchased\n",
    "    #wait for the stock to be purchased before setting the sell price for the stock\n",
    "    while result != 'filled' and not set_sell_limit_order:\n",
    "        \n",
    "        #get the result of the order based on the order ID from executing a buy order\n",
    "        get_result = rs.orders.get_stock_order_info(order_id)\n",
    "        #get the state of the purchase order\n",
    "        result = get_result['state']\n",
    "        \n",
    "        #check if we can set a sell limit order\n",
    "        set_sell_limit_order = set_sell_price(symbol, purchase_price=latest_price)\n",
    "        \n",
    "        #BUG:\n",
    "        #if stock isn't purchased, we either need to time out which involves cancelling the order\n",
    "        #or we have to cancel current order and make a new order with current price\n",
    "        print(\"in while loop waiting for purchase to be filled\")     "
   ]
  },
  {
   "cell_type": "code",
   "execution_count": 4,
   "metadata": {
    "ExecuteTime": {
     "end_time": "2020-06-24T16:56:55.828646Z",
     "start_time": "2020-06-24T16:56:55.823610Z"
    }
   },
   "outputs": [],
   "source": [
    "#sets the sell price for the stock purchased on Robinhood\n",
    "def set_sell_price(symbol, purchase_price):\n",
    "    #set the sell price to 7/10th of a percent as the target gain\n",
    "    sell_price = purchase_price * 1.007\n",
    "    \n",
    "    #place the sell limit order on Robinhood\n",
    "    sell_order = rs.order_sell_limit(symbol=symbol, quantity=1, limitPrice=sell_price, timeInForce='gtc')\n",
    "    \n",
    "    #check if sell limit order is successful\n",
    "    try:\n",
    "        #means the order failed\n",
    "        if sell_order['detail']:\n",
    "            return False\n",
    "    except:\n",
    "        return True\n",
    "        "
   ]
  },
  {
   "cell_type": "code",
   "execution_count": 5,
   "metadata": {
    "ExecuteTime": {
     "end_time": "2020-06-24T16:56:55.963826Z",
     "start_time": "2020-06-24T16:56:55.960989Z"
    }
   },
   "outputs": [],
   "source": [
    "#get a list of filterd stocks and attempts to buy and set sell limit orders on the stocks\n",
    "def buy_stock(sorted_upward_trending_stocks):\n",
    "    #iterate through stocks\n",
    "    for index, row in sorted_upward_trending_stocks.iterrows():        \n",
    "        #check if I have enough cash to purchase stock\n",
    "        if enough_money(row[\"symbol\"]):\n",
    "            #purchase the stock and set sell limit order\n",
    "            place_order(row[\"symbol\"])\n",
    "        #otherwise output the name of the stock I am unable to purchase\n",
    "        else:\n",
    "            print(\"Don't have enough money for the following stock: \", row[\"symbol\"])"
   ]
  },
  {
   "cell_type": "code",
   "execution_count": 6,
   "metadata": {
    "ExecuteTime": {
     "end_time": "2020-06-24T16:56:56.434755Z",
     "start_time": "2020-06-24T16:56:56.431228Z"
    }
   },
   "outputs": [],
   "source": [
    "#EXPERIMENTAL: gets a list of stocks with a sell limit order\n",
    "def get_stocks_with_sell_order() -> list: \n",
    "    #initialized list of stocks with sell limit order\n",
    "    my_stock_list = []\n",
    "    #gets current position of all stocks in portfolio\n",
    "    all_positions = rs.account.get_all_positions()\n",
    "    #for each stock in portfolio\n",
    "    for position in all_positions:\n",
    "        #if that stock has at least 1 stock set to sell\n",
    "        if float(position['shares_held_for_sells']) > 0:\n",
    "            #get the instrument of the position\n",
    "            instrument = position['instrument']\n",
    "            #get the stock ticker\n",
    "            stock_ticker = rs.stocks.get_symbol_by_url(url=instrument)\n",
    "            #add stock ticker to list\n",
    "            my_stock_list.append(stock_ticker)\n",
    "    #return the list of stocks with a sell limit order\n",
    "    return my_stock_list"
   ]
  },
  {
   "cell_type": "code",
   "execution_count": null,
   "metadata": {},
   "outputs": [],
   "source": []
  }
 ],
 "metadata": {
  "kernelspec": {
   "display_name": "Python 3",
   "language": "python",
   "name": "python3"
  },
  "language_info": {
   "codemirror_mode": {
    "name": "ipython",
    "version": 3
   },
   "file_extension": ".py",
   "mimetype": "text/x-python",
   "name": "python",
   "nbconvert_exporter": "python",
   "pygments_lexer": "ipython3",
   "version": "3.6.5"
  },
  "varInspector": {
   "cols": {
    "lenName": 16,
    "lenType": 16,
    "lenVar": 40
   },
   "kernels_config": {
    "python": {
     "delete_cmd_postfix": "",
     "delete_cmd_prefix": "del ",
     "library": "var_list.py",
     "varRefreshCmd": "print(var_dic_list())"
    },
    "r": {
     "delete_cmd_postfix": ") ",
     "delete_cmd_prefix": "rm(",
     "library": "var_list.r",
     "varRefreshCmd": "cat(var_dic_list()) "
    }
   },
   "types_to_exclude": [
    "module",
    "function",
    "builtin_function_or_method",
    "instance",
    "_Feature"
   ],
   "window_display": false
  }
 },
 "nbformat": 4,
 "nbformat_minor": 2
}

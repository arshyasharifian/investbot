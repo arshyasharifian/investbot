{
 "cells": [
  {
   "cell_type": "code",
   "execution_count": 1,
   "metadata": {
    "ExecuteTime": {
     "end_time": "2020-06-29T00:11:11.628578Z",
     "start_time": "2020-06-29T00:11:11.623491Z"
    }
   },
   "outputs": [],
   "source": [
    "from IPython import display\n",
    "import os\n",
    "\n",
    "# function to run dash codes from jupyternotebook \n",
    "def show_app(app, port = 9999, \n",
    "             width = 700, \n",
    "             height = 350, \n",
    "             offline = False,\n",
    "            in_binder = None):\n",
    "    in_binder ='JUPYTERHUB_SERVICE_PREFIX' in os.environ if in_binder is None else in_binder\n",
    "    if in_binder:\n",
    "        base_prefix = '{}proxy/{}/'.format(os.environ['JUPYTERHUB_SERVICE_PREFIX'], port)\n",
    "        url = 'https://hub.mybinder.org{}'.format(base_prefix)\n",
    "        app.config.requests_pathname_prefix = base_prefix\n",
    "    else:\n",
    "        url = 'http://localhost:%d' % port\n",
    "        \n",
    "    iframe = '<a href=\"{url}\" target=\"_new\">Open in new window</a><hr><iframe src=\"{url}\" width={width} height={height}></iframe>'.format(url = url, \n",
    "                                                                                  width = width, \n",
    "                                                                                  height = height)\n",
    "    \n",
    "    display.display_html(iframe, raw = True)\n",
    "    if offline:\n",
    "        app.css.config.serve_locally = True\n",
    "        app.scripts.config.serve_locally = True\n",
    "    return app.run_server(debug=False, # needs to be false in Jupyter\n",
    "                          host = '0.0.0.0',\n",
    "                          port=port)"
   ]
  },
  {
   "cell_type": "code",
   "execution_count": 2,
   "metadata": {
    "ExecuteTime": {
     "end_time": "2020-06-29T00:11:12.652957Z",
     "start_time": "2020-06-29T00:11:12.423917Z"
    }
   },
   "outputs": [],
   "source": [
    "%run purchase_stock.ipynb"
   ]
  },
  {
   "cell_type": "code",
   "execution_count": null,
   "metadata": {
    "ExecuteTime": {
     "start_time": "2020-06-29T00:13:05.408Z"
    }
   },
   "outputs": [
    {
     "name": "stderr",
     "output_type": "stream",
     "text": [
      " * Running on http://127.0.0.1:8050/ (Press CTRL+C to quit)\n",
      "127.0.0.1 - - [28/Jun/2020 17:13:07] \"\u001b[37mGET / HTTP/1.1\u001b[0m\" 200 -\n",
      "127.0.0.1 - - [28/Jun/2020 17:13:07] \"\u001b[37mGET /_dash-layout HTTP/1.1\u001b[0m\" 200 -\n",
      "127.0.0.1 - - [28/Jun/2020 17:13:07] \"\u001b[37mGET /_dash-dependencies HTTP/1.1\u001b[0m\" 200 -\n",
      "127.0.0.1 - - [28/Jun/2020 17:13:07] \"\u001b[37mPOST /_dash-update-component HTTP/1.1\u001b[0m\" 200 -\n",
      "127.0.0.1 - - [28/Jun/2020 17:13:27] \"\u001b[37mPOST /_dash-update-component HTTP/1.1\u001b[0m\" 200 -\n",
      "127.0.0.1 - - [28/Jun/2020 17:13:47] \"\u001b[37mPOST /_dash-update-component HTTP/1.1\u001b[0m\" 200 -\n",
      "127.0.0.1 - - [28/Jun/2020 17:14:07] \"\u001b[37mPOST /_dash-update-component HTTP/1.1\u001b[0m\" 200 -\n",
      "127.0.0.1 - - [28/Jun/2020 17:14:27] \"\u001b[37mPOST /_dash-update-component HTTP/1.1\u001b[0m\" 200 -\n",
      "127.0.0.1 - - [28/Jun/2020 17:14:48] \"\u001b[37mPOST /_dash-update-component HTTP/1.1\u001b[0m\" 200 -\n",
      "127.0.0.1 - - [28/Jun/2020 17:15:07] \"\u001b[37mPOST /_dash-update-component HTTP/1.1\u001b[0m\" 200 -\n",
      "127.0.0.1 - - [28/Jun/2020 17:15:28] \"\u001b[37mPOST /_dash-update-component HTTP/1.1\u001b[0m\" 200 -\n",
      "127.0.0.1 - - [28/Jun/2020 17:15:53] \"\u001b[37mPOST /_dash-update-component HTTP/1.1\u001b[0m\" 200 -\n",
      "127.0.0.1 - - [28/Jun/2020 17:16:07] \"\u001b[37mPOST /_dash-update-component HTTP/1.1\u001b[0m\" 200 -\n",
      "127.0.0.1 - - [28/Jun/2020 17:16:27] \"\u001b[37mPOST /_dash-update-component HTTP/1.1\u001b[0m\" 200 -\n",
      "127.0.0.1 - - [28/Jun/2020 17:16:48] \"\u001b[37mPOST /_dash-update-component HTTP/1.1\u001b[0m\" 200 -\n"
     ]
    }
   ],
   "source": [
    "import robin_stocks as rs\n",
    "import numpy as np\n",
    "from datetime import datetime\n",
    "\n",
    "import dash\n",
    "import dash_core_components as dcc\n",
    "import dash_html_components as html\n",
    "from dash.dependencies import Input, Output\n",
    "import plotly.graph_objects as go\n",
    "\n",
    "\n",
    "username = ''\n",
    "password = ''\n",
    "\n",
    "# log in your robinhood account \n",
    "#login = rs.login(username, password)\n",
    "\n",
    "# monitor time frame\n",
    "min_time = datetime(datetime.today().year,\n",
    "                    datetime.today().month,\n",
    "                    datetime.today().day,\n",
    "                    0, 0, 0)\n",
    "\n",
    "max_time = datetime(datetime.today().year,\n",
    "                    datetime.today().month,\n",
    "                    datetime.today().day,\n",
    "                    21, 0, 0)\n",
    "\n",
    "p_list = []\n",
    "t_list = []\n",
    "\n",
    "\n",
    "#return a list of stocks\n",
    "#stocks_list = get_algo_stock_list()\n",
    "\n",
    "# return latest buying power in your account\n",
    "def get_latest_buyPower():\n",
    "    \n",
    "    '''\n",
    "    stocks_list = get_algo_stock_list()\n",
    "    principle = float(rs.profiles.load_account_profile()['cash_available_for_withdrawal'])\n",
    "    principle -= 25000\n",
    "    \n",
    "    #stock_price_list = rs.stocks.get_latest_price(stocks_list)\n",
    "    '''\n",
    "    #stocks_list = ['aapl']\n",
    "    \n",
    "    #print(stocks_list)\n",
    "    #if stocks_list:\n",
    "        #stock_price_list = rs.stocks.get_latest_price(inputSymbols=stocks_list)\n",
    "        \n",
    "    \n",
    "        #for stock in stock_price_list:\n",
    "        #    principle += float(stock)\n",
    "\n",
    "    #return principle, datetime.now()\n",
    "    return 10, datetime.now()\n",
    "\n",
    "\n",
    "# Initiating a dash app\n",
    "external_stylesheets = ['https://codepen.io/chriddyp/pen/bWLwgP.css']\n",
    "app = dash.Dash(__name__, external_stylesheets=external_stylesheets)\n",
    "\n",
    "# simple app interface\n",
    "app.layout = html.Div(children=[\n",
    "    html.Div([\n",
    "        html.H5('Live Graph Testing'),\n",
    "    ], className='row'),\n",
    "    html.Div([\n",
    "        dcc.Graph(id='live_graph', animate=True),\n",
    "        dcc.Interval(id='interval_component', interval=20*1000, n_intervals=0)  # interval = 20 sec\n",
    "    ])\n",
    "])\n",
    "\n",
    "# update live chart\n",
    "@app.callback(Output('live_graph', 'figure'),\n",
    "              [Input('interval_component', 'n_intervals')])\n",
    "def update_graph(n):\n",
    "    global stocks_list\n",
    "    global min_time\n",
    "    global max_time\n",
    "    global p_list\n",
    "    global t_list\n",
    "    \n",
    "    # define x-axis\n",
    "    min_time = datetime.now()\n",
    "    min_time = min_time.replace(minute=30, hour=6, second=0, microsecond=0)\n",
    "    \n",
    "    max_time = datetime.now()\n",
    "    max_time = max_time.replace(minute=0, hour=23, second=0, microsecond=0)\n",
    "    \n",
    "    # get buy power at that time instance\n",
    "    principle, current_time = get_latest_buyPower()\n",
    "\n",
    "    p_list.append(principle)\n",
    "    t_list.append(current_time)\n",
    "    \n",
    "    # dash plot data \n",
    "    trace = go.Scatter(x=t_list,\n",
    "                       y=p_list,\n",
    "                       name='random plot',\n",
    "                       mode='lines+markers')\n",
    "\n",
    "    layout = go.Layout(xaxis=dict(range=[min_time, max_time]), yaxis=dict(range=[0, principle + 10]))\n",
    "    fig = {'data': [trace],\n",
    "           'layout': layout\n",
    "           }\n",
    "\n",
    "    return fig\n",
    "\n",
    "\n",
    "if __name__ == '__main__':\n",
    "    app.run_server(debug=False)\n"
   ]
  },
  {
   "cell_type": "code",
   "execution_count": null,
   "metadata": {},
   "outputs": [],
   "source": []
  }
 ],
 "metadata": {
  "anaconda-cloud": {},
  "kernelspec": {
   "display_name": "Python 3",
   "language": "python",
   "name": "python3"
  },
  "language_info": {
   "codemirror_mode": {
    "name": "ipython",
    "version": 3
   },
   "file_extension": ".py",
   "mimetype": "text/x-python",
   "name": "python",
   "nbconvert_exporter": "python",
   "pygments_lexer": "ipython3",
   "version": "3.6.5"
  },
  "varInspector": {
   "cols": {
    "lenName": 16,
    "lenType": 16,
    "lenVar": 40
   },
   "kernels_config": {
    "python": {
     "delete_cmd_postfix": "",
     "delete_cmd_prefix": "del ",
     "library": "var_list.py",
     "varRefreshCmd": "print(var_dic_list())"
    },
    "r": {
     "delete_cmd_postfix": ") ",
     "delete_cmd_prefix": "rm(",
     "library": "var_list.r",
     "varRefreshCmd": "cat(var_dic_list()) "
    }
   },
   "types_to_exclude": [
    "module",
    "function",
    "builtin_function_or_method",
    "instance",
    "_Feature"
   ],
   "window_display": false
  }
 },
 "nbformat": 4,
 "nbformat_minor": 1
}

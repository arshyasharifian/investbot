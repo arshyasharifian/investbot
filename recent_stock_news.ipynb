{
 "cells": [
  {
   "cell_type": "code",
   "execution_count": 2,
   "metadata": {
    "ExecuteTime": {
     "end_time": "2020-06-23T00:35:15.069220Z",
     "start_time": "2020-06-23T00:35:15.063713Z"
    }
   },
   "outputs": [],
   "source": [
    "#return True if a stock ticker's most recent news occurred in last 30 minutes\n",
    "def get_news_story_time_diff(symbol:str):\n",
    "    \n",
    "    #gets recent stock news\n",
    "    sn = rs.stocks.get_news(symbol=symbol, info = 'published_at')\n",
    "    \n",
    "    #checking if there is a news story\n",
    "    if sn:\n",
    "        #news_time = sn[0]['published_at']\n",
    "        news_time = sn[0]\n",
    "    else:\n",
    "        return False    \n",
    "    \n",
    "    #formatting news story time\n",
    "    news_time_form = news_time.replace('T', \" \")\n",
    "    news_time_form = news_time_form.replace ('Z', \"\")\n",
    "    \n",
    "    #formatting current time\n",
    "    cap_time = datetime.now()\n",
    "    cap_time_form = cap_time.strftime(\"%Y-%m-%d %H:%M:%S\")\n",
    "    cap_time_form = str(cap_time_form)\n",
    "    \n",
    "    #getting time difference between current time and news story timestampe\n",
    "    d1 = datetime.strptime(cap_time_form, \"%Y-%m-%d %H:%M:%S\")\n",
    "    d2 = datetime.strptime(news_time_form, \"%Y-%m-%d %H:%M:%S\")\n",
    "    \n",
    "    #since Robinhood get_news function returns timestamp in UTC, we subtract 7 hours to get PST\n",
    "    d2 = d2 - timedelta(hours=7)    \n",
    "    \n",
    "    #calcuating the difference\n",
    "    diff = d1-d2\n",
    "    \n",
    "    #if the difference is less than 30 minutes\n",
    "    if diff.total_seconds() < 1800:\n",
    "        return True\n",
    "    else:\n",
    "        return False"
   ]
  },
  {
   "cell_type": "code",
   "execution_count": 3,
   "metadata": {
    "ExecuteTime": {
     "end_time": "2020-06-23T00:35:15.257124Z",
     "start_time": "2020-06-23T00:35:15.252905Z"
    }
   },
   "outputs": [],
   "source": [
    "#given a list of tradeable stocks in Robinhood, this function filters for recent news\n",
    "def filter_recent_news(my_tradeable_stocks):\n",
    "    \n",
    "    index = 0\n",
    "    #initializing list that holds tradeable Robinhood stock with recent news\n",
    "    recent_news_stocks = []\n",
    "    stock_count = 0\n",
    "    #iterate through all tradeable stocks on Robinhood\n",
    "    while index < len(my_tradeable_stocks):\n",
    "        #get the stock ticker\n",
    "        stock = my_tradeable_stocks[index]\n",
    "        #if the stock has \"recent news\" where \"recent news\" is defined as any story within last 30 minutes\n",
    "        if get_news_story_time_diff(stock):\n",
    "            \n",
    "            #get the title of the story\n",
    "            title = rs.stocks.get_news(symbol=stock, info = 'title')\n",
    "            title = title[0]\n",
    "            \n",
    "            #package the stock and title of the recent news article\n",
    "            append_val = [stock, title]\n",
    "            \n",
    "            #add stock ticker and recent news story to list holding all stocks with recent news\n",
    "            recent_news_stocks.append(append_val)\n",
    "        \n",
    "        #increment tradeable stock index\n",
    "        index+=1\n",
    "    \n",
    "    #return list of all tradeable stocks with recent news on Robinhood\n",
    "    return recent_news_stocks"
   ]
  }
 ],
 "metadata": {
  "kernelspec": {
   "display_name": "Python 3",
   "language": "python",
   "name": "python3"
  },
  "language_info": {
   "codemirror_mode": {
    "name": "ipython",
    "version": 3
   },
   "file_extension": ".py",
   "mimetype": "text/x-python",
   "name": "python",
   "nbconvert_exporter": "python",
   "pygments_lexer": "ipython3",
   "version": "3.6.5"
  },
  "varInspector": {
   "cols": {
    "lenName": 16,
    "lenType": 16,
    "lenVar": 40
   },
   "kernels_config": {
    "python": {
     "delete_cmd_postfix": "",
     "delete_cmd_prefix": "del ",
     "library": "var_list.py",
     "varRefreshCmd": "print(var_dic_list())"
    },
    "r": {
     "delete_cmd_postfix": ") ",
     "delete_cmd_prefix": "rm(",
     "library": "var_list.r",
     "varRefreshCmd": "cat(var_dic_list()) "
    }
   },
   "types_to_exclude": [
    "module",
    "function",
    "builtin_function_or_method",
    "instance",
    "_Feature"
   ],
   "window_display": false
  }
 },
 "nbformat": 4,
 "nbformat_minor": 2
}

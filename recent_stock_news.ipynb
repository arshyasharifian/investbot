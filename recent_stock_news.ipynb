{
 "cells": [
  {
   "cell_type": "code",
   "execution_count": 5,
   "metadata": {},
   "outputs": [],
   "source": [
    "#return True if a stock ticker's most recent news occured in last X amount of time\n",
    "def get_news_story_time_diff(symbol:str):\n",
    "    sn = rs.stocks.get_news(symbol=symbol)\n",
    "    if sn:\n",
    "        news_time = sn[0]['published_at']\n",
    "    else:\n",
    "        return False\n",
    "    #formatting news story time\n",
    "    news_time_form = news_time.replace('T', \" \")\n",
    "    news_time_form = news_time_form.replace ('Z', \"\")\n",
    "    #formatting current time\n",
    "    cap_time = datetime.now()\n",
    "    cap_time_form = cap_time.strftime(\"%Y-%m-%d %H:%M:%S\")\n",
    "    cap_time_form = str(cap_time_form)\n",
    "    \n",
    "    #getting time difference between the two\n",
    "    d1 = datetime.strptime(cap_time_form, \"%Y-%m-%d %H:%M:%S\")\n",
    "    d2 = datetime.strptime(news_time_form, \"%Y-%m-%d %H:%M:%S\")\n",
    "    diff = d1-d2\n",
    "    #1800 is 30 minutes\n",
    "    if diff.total_seconds() < 1800:\n",
    "        #then less than 30 minutes since story\n",
    "        return True\n",
    "    else:\n",
    "        return False"
   ]
  },
  {
   "cell_type": "code",
   "execution_count": 6,
   "metadata": {},
   "outputs": [],
   "source": [
    "def filter_recent_news():\n",
    "    #download table\n",
    "    storage_client = storage.Client(project=\"bright-voltage-248522\")\n",
    "    bucket = storage_client.get_bucket('arys_bucket1')\n",
    "    blob = bucket.blob(\"stable_current_stocks\")\n",
    "    data = blob.download_to_filename('stable_current_stocks1.csv')\n",
    "    data_csv = pd.read_csv('stable_current_stocks1.csv', index_col=0, parse_dates=True)\n",
    "      \n",
    "    print(\"number of tradeable stocks \", len(data_csv))\n",
    "    #iterate through tickers  \n",
    "    for index, row in data_csv.iterrows():\n",
    "        if get_news_story_time_diff(row[\"symbol\"]) == False:\n",
    "            data_csv = data_csv.drop([index], axis=0)\n",
    "    \n",
    "    return data_csv"
   ]
  },
  {
   "cell_type": "code",
   "execution_count": null,
   "metadata": {},
   "outputs": [],
   "source": []
  }
 ],
 "metadata": {
  "kernelspec": {
   "display_name": "Python 3",
   "language": "python",
   "name": "python3"
  },
  "language_info": {
   "codemirror_mode": {
    "name": "ipython",
    "version": 3
   },
   "file_extension": ".py",
   "mimetype": "text/x-python",
   "name": "python",
   "nbconvert_exporter": "python",
   "pygments_lexer": "ipython3",
   "version": "3.6.5"
  }
 },
 "nbformat": 4,
 "nbformat_minor": 2
}

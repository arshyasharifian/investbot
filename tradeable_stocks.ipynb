{
 "cells": [
  {
   "cell_type": "code",
   "execution_count": 2,
   "metadata": {
    "ExecuteTime": {
     "end_time": "2020-06-23T00:44:42.310015Z",
     "start_time": "2020-06-23T00:44:42.304816Z"
    }
   },
   "outputs": [],
   "source": [
    "#gets list of all tradeable stocks on Robinhood\n",
    "def get_tradeable_stocks(): \n",
    "    #download table\n",
    "    #iterate through all stocks listed in Robinhood\n",
    "    all_tradeable_stocks = rs.stocks.find_instrument_data('')\n",
    "    #initialize empty list of tradeable stocks\n",
    "    tradeable_indicies = []\n",
    "    index = 0\n",
    "    #iterate through all stocks listed in Robinhood\n",
    "    while index < len(all_tradeable_stocks):\n",
    "        #get tradability value of stock\n",
    "        tradeable = all_tradeable_stocks[index]['tradability']\n",
    "        #if stock is tradable\n",
    "        if tradeable == 'tradable':\n",
    "            #get the symbol of the stock\n",
    "            symbol = all_tradeable_stocks[index]['symbol']\n",
    "            #add stock to list of tradeable stocks\n",
    "            tradeable_indicies.append(symbol)\n",
    "        index+=1\n",
    "    #return list of tradeable stocks\n",
    "    return tradeable_indicies"
   ]
  }
 ],
 "metadata": {
  "kernelspec": {
   "display_name": "Python 3",
   "language": "python",
   "name": "python3"
  },
  "language_info": {
   "codemirror_mode": {
    "name": "ipython",
    "version": 3
   },
   "file_extension": ".py",
   "mimetype": "text/x-python",
   "name": "python",
   "nbconvert_exporter": "python",
   "pygments_lexer": "ipython3",
   "version": "3.6.5"
  },
  "varInspector": {
   "cols": {
    "lenName": 16,
    "lenType": 16,
    "lenVar": 40
   },
   "kernels_config": {
    "python": {
     "delete_cmd_postfix": "",
     "delete_cmd_prefix": "del ",
     "library": "var_list.py",
     "varRefreshCmd": "print(var_dic_list())"
    },
    "r": {
     "delete_cmd_postfix": ") ",
     "delete_cmd_prefix": "rm(",
     "library": "var_list.r",
     "varRefreshCmd": "cat(var_dic_list()) "
    }
   },
   "types_to_exclude": [
    "module",
    "function",
    "builtin_function_or_method",
    "instance",
    "_Feature"
   ],
   "window_display": false
  }
 },
 "nbformat": 4,
 "nbformat_minor": 2
}

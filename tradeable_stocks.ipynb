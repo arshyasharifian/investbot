{
 "cells": [
  {
   "cell_type": "code",
   "execution_count": 8,
   "metadata": {},
   "outputs": [],
   "source": [
    "def get_tradeable_stocks():\n",
    "    \n",
    "    #download table\n",
    "    '''\n",
    "    storage_client = storage.Client(project=\"bright-voltage-248522\")\n",
    "    bucket = storage_client.get_bucket('arys_bucket1')\n",
    "    blob = bucket.blob(\"stock_purchase_list\")\n",
    "    data = blob.download_to_filename('stock_purchase_list_d.csv')\n",
    "    data_csv = pd.read_csv('stable_current_stocks1.csv', index_col=0, parse_dates=True)\n",
    "    return data_csv\n",
    "    '''\n",
    "    all_tradeable_stocks = rs.stocks.find_instrument_data('')\n",
    "    tradeable_indicies = []\n",
    "    index = 0\n",
    "    while index < len(all_tradeable_stocks):\n",
    "        tradeable = all_tradeable_stocks[index]['tradability']\n",
    "        if tradeable == 'tradable':\n",
    "            symbol = all_tradeable_stocks[index]['symbol']\n",
    "            tradeable_indicies.append(symbol)\n",
    "        index+=1\n",
    "    #print(\"here\")\n",
    "    #filter_recent_news(all_tradeable_stocks)\n",
    "    return tradeable_indicies"
   ]
  },
  {
   "cell_type": "code",
   "execution_count": null,
   "metadata": {},
   "outputs": [],
   "source": []
  }
 ],
 "metadata": {
  "kernelspec": {
   "display_name": "Python 3",
   "language": "python",
   "name": "python3"
  },
  "language_info": {
   "codemirror_mode": {
    "name": "ipython",
    "version": 3
   },
   "file_extension": ".py",
   "mimetype": "text/x-python",
   "name": "python",
   "nbconvert_exporter": "python",
   "pygments_lexer": "ipython3",
   "version": "3.6.5"
  },
  "varInspector": {
   "cols": {
    "lenName": 16,
    "lenType": 16,
    "lenVar": 40
   },
   "kernels_config": {
    "python": {
     "delete_cmd_postfix": "",
     "delete_cmd_prefix": "del ",
     "library": "var_list.py",
     "varRefreshCmd": "print(var_dic_list())"
    },
    "r": {
     "delete_cmd_postfix": ") ",
     "delete_cmd_prefix": "rm(",
     "library": "var_list.r",
     "varRefreshCmd": "cat(var_dic_list()) "
    }
   },
   "types_to_exclude": [
    "module",
    "function",
    "builtin_function_or_method",
    "instance",
    "_Feature"
   ],
   "window_display": false
  }
 },
 "nbformat": 4,
 "nbformat_minor": 2
}

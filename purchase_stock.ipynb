{
 "cells": [
  {
   "cell_type": "code",
   "execution_count": 2,
   "metadata": {},
   "outputs": [],
   "source": [
    "def enough_money(symbol):\n",
    "    try:\n",
    "        latest_price = rs.stocks.get_latest_price(symbol)\n",
    "        latest_price = float(latest_price[0])\n",
    "        buy_power = float(rs.profiles.load_account_profile(info = 'portfolio_cash'))-25000 \n",
    "        #must subtract this value by 25K to prevent using required principle for trading\n",
    "        #buy_power = float(rs.profiles.load_account_profile(info = 'cash_available_for_withdrawal'))\n",
    "        #for testing\n",
    "        #buy_power = 20\n",
    "        if buy_power > latest_price:\n",
    "            print(buy_power, latest_price)\n",
    "            return True\n",
    "        else:\n",
    "            print(\"not enough money \", buy_power, latest_price)\n",
    "            return False\n",
    "    except:\n",
    "        print(\"something didn't work\")\n",
    "        return False"
   ]
  },
  {
   "cell_type": "code",
   "execution_count": 1,
   "metadata": {},
   "outputs": [],
   "source": [
    "def place_order(symbol):\n",
    "    latest_price = rs.stocks.get_latest_price(symbol)\n",
    "    latest_price = float(latest_price[0])\n",
    "    #can adjust the purchase price here\n",
    "    purchase_price = latest_price*1\n",
    "    prev_buy_power = float(rs.profiles.load_account_profile(info = 'portfolio_cash'))-25000\n",
    "    acct_prev = rs.profiles.load_account_profile()\n",
    "    #print(acct_prev)\n",
    "    #places an order based on latest_price\n",
    "    order_dict = rs.orders.order_buy_limit(symbol=symbol, quantity=1, limitPrice=purchase_price, timeInForce = 'gtc')\n",
    "    order_id = order_dict['id']\n",
    "    result = order_dict['state']\n",
    "    acct_post = rs.profiles.load_account_profile()\n",
    "    #print(acct_post)\n",
    "    post_buy_power = float(rs.profiles.load_account_profile(info = 'portfolio_cash'))-25000\n",
    "    #print(prev_buy_power==post_buy_power)\n",
    "    #this confirms the order is filled but DOES NOT confirm the stock is PURCHASED\n",
    "    while result != 'filled' and prev_buy_power==post_buy_power:\n",
    "        #print(prev_buy_power, post_buy_power)\n",
    "        #get_result = requests.get(endpoint, headers=headers).json()\n",
    "        get_result = rs.orders.get_stock_order_info(order_id)\n",
    "        result = get_result['state']\n",
    "        post_buy_power = float(rs.profiles.load_account_profile(info = 'portfolio_cash'))\n",
    "        time.sleep(1)\n",
    "        print(\"in while loop waitin for purchase to be filled\")\n",
    "    #I need to confirm the purchase before setting the sell price\n",
    "    time.sleep(5)\n",
    "    set_sell_price(symbol, purchase_price=purchase_price) \n",
    "    "
   ]
  },
  {
   "cell_type": "code",
   "execution_count": 2,
   "metadata": {},
   "outputs": [],
   "source": [
    "def set_sell_price(symbol, purchase_price):\n",
    "    #aiming for .9% return for each trade\n",
    "    print(\"setting sell price\")\n",
    "    sell_price = purchase_price * 1.007\n",
    "    rs.order_sell_limit(symbol=symbol, quantity=1, limitPrice=sell_price, timeInForce='gtc')"
   ]
  },
  {
   "cell_type": "code",
   "execution_count": 3,
   "metadata": {},
   "outputs": [],
   "source": [
    "def buy_stock(sorted_upward_trending_stocks):\n",
    "    #iterate through stocks\n",
    "    for index, row in sorted_upward_trending_stocks.iterrows():        \n",
    "        #ensures I have enough CASH to purchase stock\n",
    "        if enough_money(row[\"symbol\"]):\n",
    "            print(\"next stock for purchase: \", row[\"symbol\"])\n",
    "            #uncomment line below to pause before making purchase\n",
    "            #txt = input(\"enter something\")\n",
    "            \n",
    "            if place_order(row[\"symbol\"]):\n",
    "                print(\"purchased\", (row[\"symbol\"]))\n",
    "                #remove symbol from dataframe\n",
    "                return None\n",
    "        else:\n",
    "            print(\"nope\", row[\"symbol\"])"
   ]
  },
  {
   "cell_type": "code",
   "execution_count": null,
   "metadata": {},
   "outputs": [],
   "source": []
  }
 ],
 "metadata": {
  "kernelspec": {
   "display_name": "Python 3",
   "language": "python",
   "name": "python3"
  },
  "language_info": {
   "codemirror_mode": {
    "name": "ipython",
    "version": 3
   },
   "file_extension": ".py",
   "mimetype": "text/x-python",
   "name": "python",
   "nbconvert_exporter": "python",
   "pygments_lexer": "ipython3",
   "version": "3.6.5"
  }
 },
 "nbformat": 4,
 "nbformat_minor": 2
}

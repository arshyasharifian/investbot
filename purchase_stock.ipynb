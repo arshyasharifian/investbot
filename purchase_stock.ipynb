{
 "cells": [
  {
   "cell_type": "code",
   "execution_count": 1,
   "metadata": {},
   "outputs": [],
   "source": [
    "def enough_money(symbol):\n",
    "    latest_price = rs.stocks.get_latest_price(symbol)\n",
    "    latest_price = float(latest_price[0])\n",
    "    buy_power = float(rs.profiles.load_account_profile(info = 'portfolio_cash'))    \n",
    "    if buy_power > latest_price:\n",
    "        return True\n",
    "    else:\n",
    "        return False"
   ]
  },
  {
   "cell_type": "code",
   "execution_count": 2,
   "metadata": {},
   "outputs": [],
   "source": [
    "def place_order(symbol):\n",
    "    latest_price = rs.stocks.get_latest_price(symbol)\n",
    "    latest_price = float(latest_price[0])\n",
    "    #can adjust the purchase price here\n",
    "    purchase_price = latest_price*1\n",
    "\n",
    "    print(\"for \", purchase_price, \", latest price is \", latest_price)\n",
    "    #places an order based on latest_price\n",
    "    order_dict = rs.orders.order_buy_limit(symbol=symbol, quantity=1, limitPrice=purchase_price, timeInForce = 'gtc')\n",
    "    result = order_dict['state']\n",
    "    #this confirms the order is filled but DOES NOT confirm the stock is PURCHASED\n",
    "    while result != 'filled':\n",
    "        get_result = requests.get(endpoint, headers=headers).json()\n",
    "        result = get_result['state']\n",
    "    \n",
    "    #I need to confirm the purchase before setting the sell price\n",
    "    set_sell_price(symbol, purchase_price=purchase_price) "
   ]
  },
  {
   "cell_type": "code",
   "execution_count": 3,
   "metadata": {},
   "outputs": [],
   "source": [
    "def set_sell_price(symbol, purchase_price):\n",
    "    #aiming for .9% return for each trade\n",
    "    sell_price = purchase_price * 1.009\n",
    "    rs.order_sell_limit(symbol=symbol, quantity=1, limitPrice=sell_price, timeInForce='gtc')"
   ]
  },
  {
   "cell_type": "code",
   "execution_count": 4,
   "metadata": {},
   "outputs": [],
   "source": [
    "def buy_stock(sorted_upward_trending_stocks):\n",
    "    #iterate through stocks\n",
    "    for index, row in sorted_upward_trending_stocks.iterrows():        \n",
    "        #ensures I have enough CASH to purchase stock\n",
    "        if enough_money(row[\"symbol\"]):\n",
    "            if place_order(row[\"symbol\"]):\n",
    "                print(\"purchased\", (row[\"symbol\"]))\n",
    "                #remove symbol from dataframe\n",
    "                return None      "
   ]
  },
  {
   "cell_type": "code",
   "execution_count": null,
   "metadata": {},
   "outputs": [],
   "source": []
  }
 ],
 "metadata": {
  "kernelspec": {
   "display_name": "Python 3",
   "language": "python",
   "name": "python3"
  },
  "language_info": {
   "codemirror_mode": {
    "name": "ipython",
    "version": 3
   },
   "file_extension": ".py",
   "mimetype": "text/x-python",
   "name": "python",
   "nbconvert_exporter": "python",
   "pygments_lexer": "ipython3",
   "version": "3.6.5"
  }
 },
 "nbformat": 4,
 "nbformat_minor": 2
}

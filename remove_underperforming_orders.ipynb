{
 "cells": [
  {
   "cell_type": "code",
   "execution_count": 1,
   "metadata": {
    "ExecuteTime": {
     "end_time": "2020-06-26T18:43:32.348578Z",
     "start_time": "2020-06-26T18:43:32.345080Z"
    }
   },
   "outputs": [],
   "source": [
    "def sell_order_past_hour(order_time_conv_pst):\n",
    "    curr_time = datetime.now()\n",
    "    curr_time_form = curr_time.strftime(\"%Y-%m-%d %H:%M:%S\")\n",
    "    curr_time_form = str(curr_time_form)\n",
    "    \n",
    "    curr_time_conv = datetime.strptime(curr_time_form, \"%Y-%m-%d %H:%M:%S\")\n",
    "\n",
    "    diff = curr_time_conv-order_time_conv_pst\n",
    "    \n",
    "    if diff.total_seconds() > 3600:\n",
    "        return True\n",
    "    else:\n",
    "        return False"
   ]
  },
  {
   "cell_type": "code",
   "execution_count": 2,
   "metadata": {
    "ExecuteTime": {
     "end_time": "2020-06-26T18:43:38.921019Z",
     "start_time": "2020-06-26T18:43:38.915854Z"
    }
   },
   "outputs": [],
   "source": [
    "def get_PST_time(order_time):\n",
    "    order_time_form = order_time.replace('T', \" \")\n",
    "    order_time_form = order_time_form.replace ('Z', \"\")\n",
    "    order_time_conv = datetime.strptime(order_time_form, \"%Y-%m-%d %H:%M:%S.%f\")\n",
    "    order_time_conv_pst = order_time_conv - timedelta(hours=7) \n",
    "    return order_time_conv_pst"
   ]
  },
  {
   "cell_type": "code",
   "execution_count": 3,
   "metadata": {
    "ExecuteTime": {
     "end_time": "2020-06-26T18:43:46.559061Z",
     "start_time": "2020-06-26T18:43:46.554155Z"
    }
   },
   "outputs": [],
   "source": [
    "def get_sell_limit_orders():\n",
    "    sell_limit_orders = []\n",
    "    #get all stock orders\n",
    "    orders_list = rs.get_all_stock_orders()\n",
    "    for orders in orders_list:\n",
    "        if orders['side'] == 'sell' and orders['state'] == 'confirmed':\n",
    "            #order_id and created_time\n",
    "            #print(orders)\n",
    "            #print('\\n')\n",
    "            #instrument needed\n",
    "            instrument = orders['instrument']\n",
    "            ticker = rs.stocks.get_symbol_by_url(instrument)            \n",
    "            append_val = [orders['id'], orders['created_at'], ticker]\n",
    "            sell_limit_orders.append(append_val)\n",
    "    return sell_limit_orders"
   ]
  },
  {
   "cell_type": "code",
   "execution_count": 6,
   "metadata": {
    "ExecuteTime": {
     "end_time": "2020-06-26T18:44:20.694696Z",
     "start_time": "2020-06-26T18:44:20.689019Z"
    }
   },
   "outputs": [],
   "source": [
    "def remove_stale_sell_orders():\n",
    "    #get orderIDs for all sell limit order\n",
    "    sell_limit_orders = get_sell_limit_orders()\n",
    "    #if sell limit order has been in place for more than an hour\n",
    "    for orders in sell_limit_orders:\n",
    "        order_time_conv_pst = get_PST_time(orders[1])\n",
    "        if sell_order_past_hour(order_time_conv_pst):\n",
    "            #cancel the sell limit order\n",
    "            rs.orders.cancel_stock_order(orders[0])\n",
    "            time.sleep(5)\n",
    "\n",
    "            #place an immediate sell order for that share\n",
    "            sell_order = rs.orders.order_sell_market(orders[2], 1, timeInForce='gtc', extendedHours=False) "
   ]
  }
 ],
 "metadata": {
  "kernelspec": {
   "display_name": "Python 3",
   "language": "python",
   "name": "python3"
  },
  "language_info": {
   "codemirror_mode": {
    "name": "ipython",
    "version": 3
   },
   "file_extension": ".py",
   "mimetype": "text/x-python",
   "name": "python",
   "nbconvert_exporter": "python",
   "pygments_lexer": "ipython3",
   "version": "3.6.5"
  },
  "varInspector": {
   "cols": {
    "lenName": 16,
    "lenType": 16,
    "lenVar": 40
   },
   "kernels_config": {
    "python": {
     "delete_cmd_postfix": "",
     "delete_cmd_prefix": "del ",
     "library": "var_list.py",
     "varRefreshCmd": "print(var_dic_list())"
    },
    "r": {
     "delete_cmd_postfix": ") ",
     "delete_cmd_prefix": "rm(",
     "library": "var_list.r",
     "varRefreshCmd": "cat(var_dic_list()) "
    }
   },
   "types_to_exclude": [
    "module",
    "function",
    "builtin_function_or_method",
    "instance",
    "_Feature"
   ],
   "window_display": false
  }
 },
 "nbformat": 4,
 "nbformat_minor": 2
}
